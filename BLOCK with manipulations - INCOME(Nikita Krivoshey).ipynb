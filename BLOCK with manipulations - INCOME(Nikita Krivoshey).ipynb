{
 "cells": [
  {
   "cell_type": "code",
   "execution_count": null,
   "id": "3ecf747c",
   "metadata": {},
   "outputs": [],
   "source": [
    "import numpy as np\n",
    "import pandas as pd\n",
    "import matplotlib.pyplot as plt\n",
    "import seaborn as sns\n",
    "import matplotlib.pyplot as plt\n",
    "#pip install category_encoders\n",
    "import category_encoders as ce\n",
    "\n",
    "from sklearn.model_selection import train_test_split , GridSearchCV , cross_val_score , RandomizedSearchCV,KFold,RepeatedKFold\n",
    "\n",
    "from sklearn.preprocessing import PolynomialFeatures\n",
    "from sklearn.preprocessing import OneHotEncoder , LabelEncoder, OrdinalEncoder\n",
    "from sklearn.compose import ColumnTransformer\n",
    "from sklearn.pipeline import Pipeline, make_pipeline\n",
    "from sklearn.metrics import get_scorer\n",
    "from sklearn.model_selection import cross_validate\n",
    "from sklearn.pipeline import Pipeline, make_pipeline\n",
    "from sklearn.model_selection import learning_curve\n",
    "\n",
    "\n",
    "from matplotlib.colors import ListedColormap\n",
    "from sklearn.ensemble import AdaBoostClassifier\n",
    "from sklearn.model_selection import cross_val_score\n",
    "from sklearn.linear_model import SGDClassifier\n",
    "from sklearn import svm \n",
    "from sklearn.svm import LinearSVC\n",
    "from sklearn.ensemble import GradientBoostingClassifier\n",
    "from sklearn.ensemble import RandomForestClassifier\n",
    "from sklearn.tree import DecisionTreeClassifier\n",
    "from itertools import product\n",
    "from sklearn.ensemble import VotingClassifier\n",
    "from sklearn.inspection import DecisionBoundaryDisplay\n",
    "from sklearn.inspection import permutation_importance\n",
    "from IPython.display import display\n",
    "from sklearn.metrics import confusion_matrix\n",
    "from sklearn.metrics import ConfusionMatrixDisplay\n",
    "from sklearn.metrics import classification_report, RocCurveDisplay, DetCurveDisplay,PrecisionRecallDisplay\n",
    "from sklearn.metrics import roc_auc_score"
   ]
  },
  {
   "cell_type": "markdown",
   "id": "4a446f37",
   "metadata": {},
   "source": [
    "#  №"
   ]
  },
  {
   "cell_type": "code",
   "execution_count": null,
   "id": "b8c491e4",
   "metadata": {},
   "outputs": [],
   "source": [
    "path_train = pd.read_csv('income_train.csv')\n",
    "df = pd.DataFrame(path_train)\n",
    "df['income'] = np.where(df['income']== '>50K',1,0)\n",
    "df.head()"
   ]
  },
  {
   "cell_type": "code",
   "execution_count": null,
   "id": "a35c3b7b",
   "metadata": {},
   "outputs": [],
   "source": [
    "ax, f = plt.subplots(figsize = (7,7))\n",
    "df[['income']].value_counts().plot.pie()"
   ]
  },
  {
   "cell_type": "code",
   "execution_count": null,
   "id": "8608966f",
   "metadata": {},
   "outputs": [],
   "source": [
    "ax = sns.pairplot(df, hue = 'income', palette= 'inferno')"
   ]
  },
  {
   "cell_type": "code",
   "execution_count": null,
   "id": "56056704",
   "metadata": {},
   "outputs": [],
   "source": [
    "ax = sns.regplot(x = 'age' , y = 'hours-per-week', data = df, fit_reg= True, scatter_kws= {'color':'red'}, line_kws={'color':'black'})"
   ]
  },
  {
   "cell_type": "code",
   "execution_count": null,
   "id": "78f74ced",
   "metadata": {},
   "outputs": [],
   "source": [
    "ax = sns.regplot(x = 'hours-per-week' , y = 'capital-loss', data = df, fit_reg= True, scatter_kws= {'color':'red'}, line_kws={'color':'black'})"
   ]
  },
  {
   "cell_type": "code",
   "execution_count": null,
   "id": "1d421ce4",
   "metadata": {},
   "outputs": [],
   "source": [
    "df['capital-gain'].unique().max()"
   ]
  },
  {
   "cell_type": "code",
   "execution_count": null,
   "id": "d3076df9",
   "metadata": {},
   "outputs": [],
   "source": [
    "df[df['capital-gain'] == 99999]"
   ]
  },
  {
   "cell_type": "code",
   "execution_count": null,
   "id": "336296e1",
   "metadata": {},
   "outputs": [],
   "source": [
    "ax = sns.regplot(x = 'age' , y = 'capital-gain', data = df, fit_reg= True, scatter_kws= {'color':'red'}, line_kws={'color':'black'})"
   ]
  },
  {
   "cell_type": "code",
   "execution_count": null,
   "id": "e86525ab",
   "metadata": {},
   "outputs": [],
   "source": [
    "df.workclass.value_counts()"
   ]
  },
  {
   "cell_type": "code",
   "execution_count": null,
   "id": "6a3b1f24",
   "metadata": {},
   "outputs": [],
   "source": [
    "df[df.workclass=='?']"
   ]
  },
  {
   "cell_type": "code",
   "execution_count": null,
   "id": "90e57ce7",
   "metadata": {},
   "outputs": [],
   "source": [
    "df = df.replace('?',np.NaN)\n",
    "df = df.dropna()\n",
    "# это выброс, тк рядом значений нет, а самое близкое к этому это где-то 43000\n",
    "df = df.drop(df[df['capital-gain'] == 99999].index)\n",
    "df.head()"
   ]
  },
  {
   "cell_type": "code",
   "execution_count": null,
   "id": "bc66b9dd",
   "metadata": {},
   "outputs": [],
   "source": [
    "ax = sns.pairplot(df, hue = 'income', palette= 'inferno')"
   ]
  },
  {
   "cell_type": "code",
   "execution_count": null,
   "id": "b825cb48",
   "metadata": {},
   "outputs": [],
   "source": [
    "ax, f = plt.subplots(figsize = (5,5))\n",
    "sns.barplot(data = df, x = 'income', y = 'hours-per-week', hue = 'occupation', palette= 'inferno')"
   ]
  },
  {
   "cell_type": "code",
   "execution_count": null,
   "id": "fa6c682b",
   "metadata": {},
   "outputs": [],
   "source": [
    "sns.histplot(df,x= 'hours-per-week', bins = 10, hue = 'sex', palette='inferno')"
   ]
  },
  {
   "cell_type": "code",
   "execution_count": null,
   "id": "cbd1dfbb",
   "metadata": {},
   "outputs": [],
   "source": [
    "df.isna().sum()"
   ]
  },
  {
   "cell_type": "markdown",
   "id": "bf58df37",
   "metadata": {},
   "source": [
    "# Block of category changes "
   ]
  },
  {
   "cell_type": "markdown",
   "id": "f3947822",
   "metadata": {},
   "source": [
    "## Relationship"
   ]
  },
  {
   "cell_type": "code",
   "execution_count": null,
   "id": "486c1429",
   "metadata": {},
   "outputs": [],
   "source": [
    "df.relationship.unique()"
   ]
  },
  {
   "cell_type": "code",
   "execution_count": null,
   "id": "38b26f7c",
   "metadata": {},
   "outputs": [],
   "source": [
    "plt.figure(figsize=(17,10))\n",
    "total = float(len(df))\n",
    "\n",
    "ax = sns.countplot(x=\"relationship\", hue=\"income\", data=df)\n",
    "for p in ax.patches:\n",
    "    height = p.get_height()\n",
    "    ax.text(p.get_x()+p.get_width()/2.,\n",
    "            height + 3,\n",
    "            '{:1.2f}'.format((height/total)*100),\n",
    "            ha=\"center\") \n",
    "plt.show()"
   ]
  },
  {
   "cell_type": "code",
   "execution_count": null,
   "id": "01c2df20",
   "metadata": {},
   "outputs": [],
   "source": [
    "df.relationship = df.relationship.replace('Husband','Family')\n",
    "df.relationship = df.relationship.replace('Wife','Family')\n",
    "df.relationship = df.relationship.replace('Unmarried','Not-in-family')\n",
    "df.relationship = df.relationship.replace('Own-child','Other')\n",
    "df.relationship = df.relationship.replace('Other-relative','Other')\n",
    "\n"
   ]
  },
  {
   "cell_type": "markdown",
   "id": "d8252528",
   "metadata": {},
   "source": [
    "## Occupation"
   ]
  },
  {
   "cell_type": "code",
   "execution_count": null,
   "id": "8d33a7b8",
   "metadata": {},
   "outputs": [],
   "source": [
    "plt.figure(figsize=(17,10))\n",
    "total = float(len(df))\n",
    "\n",
    "ax = sns.countplot(x=\"occupation\", hue=\"income\", data=df)\n",
    "for p in ax.patches:\n",
    "    height = p.get_height()\n",
    "    ax.text(p.get_x()+p.get_width()/2.,\n",
    "            height + 3,\n",
    "            '{:1.2f}'.format((height/total)*100),\n",
    "            ha=\"center\") \n",
    "plt.show()"
   ]
  },
  {
   "cell_type": "code",
   "execution_count": null,
   "id": "2900a838",
   "metadata": {},
   "outputs": [],
   "source": [
    "df[df.occupation=='?'].head()"
   ]
  },
  {
   "cell_type": "code",
   "execution_count": null,
   "id": "5698ead3",
   "metadata": {},
   "outputs": [],
   "source": [
    "# occupation разделим группы работников на разные категории\n",
    "# Intellectual labor и Physical labor - работают почасовая оплата или месячная\n",
    "# а также применение разных способностей на работе(сила/ум)\n",
    "df.occupation = df.occupation.replace('Prof-specialty','Professional')\n",
    "df.occupation = df.occupation.replace('Craft-repair','Physical labor') # blue - рабочий класс(почасовая полата) - физич труд\n",
    "df.occupation = df.occupation.replace('Exec-managerial','Intellectual labor') # white - наемный работник(доход в месяц) - умственный\n",
    "df.occupation = df.occupation.replace('Adm-clerical','Intellectual labor') # white\n",
    "df.occupation = df.occupation.replace('Machine-op-inspct','Physical labor') # blue\n",
    "df.occupation = df.occupation.replace('Transport-moving','Physical labor')# blue\n",
    "df.occupation = df.occupation.replace('Handlers-cleaners','Physical labor') # blue\n",
    "df.occupation = df.occupation.replace('Farming-fishing','Physical labor')# blue\n",
    "df.occupation = df.occupation.replace('Tech-support','Other-service')\n",
    "df.occupation = df.occupation.replace('Protective-serv','Other-service')\n",
    "df.occupation = df.occupation.replace('Priv-house-serv','Other-service')\n",
    "df.occupation = df.occupation.replace('Armed-Forces','Other-service')\n",
    "\n",
    "\n"
   ]
  },
  {
   "cell_type": "markdown",
   "id": "f1806a9b",
   "metadata": {},
   "source": [
    "## Workclass"
   ]
  },
  {
   "cell_type": "code",
   "execution_count": null,
   "id": "f4fec0cf",
   "metadata": {},
   "outputs": [],
   "source": [
    "plt.figure(figsize=(17,10))\n",
    "total = float(len(df))\n",
    "\n",
    "ax = sns.countplot(x=\"workclass\", hue=\"income\", data=df)\n",
    "for p in ax.patches:\n",
    "    height = p.get_height()\n",
    "    ax.text(p.get_x()+p.get_width()/2.,\n",
    "            height + 3,\n",
    "            '{:1.2f}'.format((height/total)*100),\n",
    "            ha=\"center\") \n",
    "plt.show()"
   ]
  },
  {
   "cell_type": "code",
   "execution_count": null,
   "id": "4f8438ca",
   "metadata": {},
   "outputs": [],
   "source": [
    "# workclass\n",
    "df.workclass = df.workclass.replace('Federal-gov','Government')\n",
    "df.workclass = df.workclass.replace('State-gov','Government')\n",
    "df.workclass = df.workclass.replace('Local-gov','Government')\n",
    "df.workclass = df.workclass.replace('Self-emp-inc','Self-Employed')\n",
    "df.workclass = df.workclass.replace('Self-emp-not-inc','Self-Employed')\n",
    "df.workclass = df.workclass.replace('Never-worked', 'Other')\n",
    "df.workclass = df.workclass.replace('Without-pay', 'Other')\n",
    "\n"
   ]
  },
  {
   "cell_type": "markdown",
   "id": "a06924e4",
   "metadata": {},
   "source": [
    "## Marital-status"
   ]
  },
  {
   "cell_type": "code",
   "execution_count": null,
   "id": "f203df47",
   "metadata": {},
   "outputs": [],
   "source": [
    "plt.figure(figsize=(17,10))\n",
    "total = float(len(df))\n",
    "\n",
    "ax = sns.countplot(x=\"marital-status\", hue=\"income\", data=df)\n",
    "for p in ax.patches:\n",
    "    height = p.get_height()\n",
    "    ax.text(p.get_x()+p.get_width()/2.,\n",
    "            height + 3,\n",
    "            '{:1.2f}'.format((height/total)*100),\n",
    "            ha=\"center\") \n",
    "plt.show()"
   ]
  },
  {
   "cell_type": "code",
   "execution_count": null,
   "id": "d85e6bbb",
   "metadata": {},
   "outputs": [],
   "source": [
    "df['marital-status'].value_counts()"
   ]
  },
  {
   "cell_type": "code",
   "execution_count": null,
   "id": "4bd0479d",
   "metadata": {},
   "outputs": [],
   "source": [
    "#marital status сделаем меньше категорий, \n",
    "#тк замужних можно объеденить в 1 категорию и никогда не замужних поменяем на одиноких\n",
    "df['marital-status'] = df['marital-status'].replace('Married-civ-spouse','Married')\n",
    "df['marital-status'] = df['marital-status'].replace('Married-AF-spouse','Married')\n",
    "df['marital-status'] = df['marital-status'].replace('Married-spouse-absent','Married')\n",
    "df['marital-status'] = df['marital-status'].replace('Never-married','Single')\n",
    "\n",
    "#df['marital-status'] = df['marital-status'].replace('Divorced','Single')\n",
    "#df['marital-status'] = df['marital-status'].replace('Widowed','Single')\n",
    "#df['marital-status'] = df['marital-status'].replace('Separated','Single')"
   ]
  },
  {
   "cell_type": "markdown",
   "id": "261db01a",
   "metadata": {},
   "source": [
    "## Race"
   ]
  },
  {
   "cell_type": "code",
   "execution_count": null,
   "id": "43406c0a",
   "metadata": {},
   "outputs": [],
   "source": [
    "plt.figure(figsize=(17,10))\n",
    "total = float(len(df))\n",
    "\n",
    "ax = sns.countplot(x=\"race\", hue=\"income\", data=df)\n",
    "for p in ax.patches:\n",
    "    height = p.get_height()\n",
    "    ax.text(p.get_x()+p.get_width()/2.,\n",
    "            height + 3,\n",
    "            '{:1.2f}'.format((height/total)*100),\n",
    "            ha=\"center\") \n",
    "plt.show()"
   ]
  },
  {
   "cell_type": "code",
   "execution_count": null,
   "id": "775899e4",
   "metadata": {},
   "outputs": [],
   "source": [
    "display(pd.DataFrame(df[['race']].value_counts()))\n",
    "# можно сделать как белые и остальные"
   ]
  },
  {
   "cell_type": "code",
   "execution_count": null,
   "id": "bc326ab4",
   "metadata": {},
   "outputs": [],
   "source": [
    "df.race = df.race.replace('Black','Other')\n",
    "df.race = df.race.replace('Asian-Pac-Islander','Other')\n",
    "df.race = df.race.replace('Amer-Indian-Eskimo','Other')"
   ]
  },
  {
   "cell_type": "markdown",
   "id": "c3c7c6bc",
   "metadata": {},
   "source": [
    "## Country"
   ]
  },
  {
   "cell_type": "code",
   "execution_count": null,
   "id": "d5e74e4a",
   "metadata": {},
   "outputs": [],
   "source": [
    "country = df['native-country'].unique()"
   ]
  },
  {
   "cell_type": "code",
   "execution_count": null,
   "id": "05752b7b",
   "metadata": {},
   "outputs": [],
   "source": [
    "def zamena_country(data):\n",
    "    for i in country:\n",
    "        if i != 'United-States':\n",
    "            data['native-country'] = data['native-country'].replace(i,'Other')\n",
    "    return data"
   ]
  },
  {
   "cell_type": "code",
   "execution_count": null,
   "id": "5efd7eed",
   "metadata": {},
   "outputs": [],
   "source": [
    "df = zamena_country(df)"
   ]
  },
  {
   "cell_type": "code",
   "execution_count": null,
   "id": "17a9c4d8",
   "metadata": {},
   "outputs": [],
   "source": [
    "df.head()"
   ]
  },
  {
   "cell_type": "code",
   "execution_count": null,
   "id": "088f2099",
   "metadata": {},
   "outputs": [],
   "source": [
    "df['native-country'].unique()"
   ]
  },
  {
   "cell_type": "markdown",
   "id": "d5f3dea4",
   "metadata": {},
   "source": [
    "## Можно сделать умно и из 2 столбцов сделать один(как изменение дохода от инвестиций)"
   ]
  },
  {
   "cell_type": "code",
   "execution_count": null,
   "id": "47881772",
   "metadata": {},
   "outputs": [],
   "source": [
    "df['capital-changes']  = df['capital-gain'] - df['capital-loss']\n",
    "#df['capital-changes'].describe()\n",
    "# и также дропнуть 2 столбца, которые мы здесь использовали, тк все показали в одном\n",
    "# но дропнем в блоке ниже"
   ]
  },
  {
   "cell_type": "code",
   "execution_count": null,
   "id": "82b3b365",
   "metadata": {},
   "outputs": [],
   "source": [
    "df[\"capital-change\"].hist(figsize=(8,8))\n",
    "plt.show()"
   ]
  },
  {
   "cell_type": "code",
   "execution_count": null,
   "id": "dded90a8",
   "metadata": {},
   "outputs": [],
   "source": [
    "df.head()"
   ]
  },
  {
   "cell_type": "markdown",
   "id": "938a847c",
   "metadata": {},
   "source": [
    "## Education"
   ]
  },
  {
   "cell_type": "code",
   "execution_count": null,
   "id": "a504225a",
   "metadata": {},
   "outputs": [],
   "source": [
    "plt.figure(figsize=(20,10))\n",
    "total = float(len(df[\"income\"]) )\n",
    "\n",
    "ax = sns.countplot(x=\"education\", hue=\"income\", data=df)\n",
    "for p in ax.patches:\n",
    "    height = p.get_height()\n",
    "    ax.text(p.get_x()+p.get_width()/2.,\n",
    "            height + 3,\n",
    "            '{:1.2f}'.format((height/total)*100),\n",
    "            ha=\"center\") \n",
    "plt.show()"
   ]
  },
  {
   "cell_type": "code",
   "execution_count": null,
   "id": "0e9298a0",
   "metadata": {},
   "outputs": [],
   "source": [
    "#df.education = df.education.replace(['Preschool','1st-4th','5th-6th','7th-8th','9th','10th','11th','12th','HS-grad'],'School')\n",
    "#df.education = df.education.replace(['Bachelors','Some-college','Prof-school','Assoc-voc'],'Higher-educ')\n",
    "#df.education = df.education.replace(['Assoc-acdm','Masters','Doctorate'],'Academia')\n",
    "\n",
    "\n",
    "df.education = df.education.replace(['Preschool','1st-4th','5th-6th','7th-8th','9th','10th','11th','12th'],'School')\n",
    "df.education = df.education.replace(['Bachelors','Some-college','Masters','Prof-school','Doctorate','HS-grad'],'Higher-educ')\n",
    "df.education = df.education.replace(['Assoc-acdm','Assoc-voc'],'Cources')\n",
    "\n",
    "### это ухудшает результаты поэтому не использовал "
   ]
  },
  {
   "cell_type": "code",
   "execution_count": null,
   "id": "c9cfaa0f",
   "metadata": {},
   "outputs": [],
   "source": [
    "plt.figure(figsize=(20,10))\n",
    "total = float(len(df[\"income\"]) )\n",
    "\n",
    "ax = sns.countplot(x=\"education-num\", hue=\"income\", data=df)\n",
    "for p in ax.patches:\n",
    "    height = p.get_height()\n",
    "    ax.text(p.get_x()+p.get_width()/2.,\n",
    "            height + 3,\n",
    "            '{:1.2f}'.format((height/total)*100),\n",
    "            ha=\"center\") \n",
    "plt.show()"
   ]
  },
  {
   "cell_type": "code",
   "execution_count": null,
   "id": "5aa838c8",
   "metadata": {},
   "outputs": [],
   "source": [
    "df[['education','education-num']].value_counts()\n",
    "# assoc-voc это как дополнительноен образование(курсы), где потом дается диплом, что закончил вот это то то"
   ]
  },
  {
   "cell_type": "code",
   "execution_count": null,
   "id": "21feaf0a",
   "metadata": {},
   "outputs": [],
   "source": [
    "df = df.drop(columns=['education'])"
   ]
  },
  {
   "cell_type": "markdown",
   "id": "d967410c",
   "metadata": {},
   "source": [
    "## Hours"
   ]
  },
  {
   "cell_type": "code",
   "execution_count": null,
   "id": "3d0caa78",
   "metadata": {},
   "outputs": [],
   "source": [
    "ax, f = plt.subplots(figsize = (15,5))\n",
    "sns.histplot(data=df, x = 'hours-per-week', hue='income' , palette='YlOrBr')\n",
    "\n",
    "# видно, что люди 40-60 получают больше, чем остальные группы"
   ]
  },
  {
   "cell_type": "code",
   "execution_count": null,
   "id": "0539ce8a",
   "metadata": {},
   "outputs": [],
   "source": [
    "df.head()"
   ]
  },
  {
   "cell_type": "markdown",
   "id": "6f300c58",
   "metadata": {},
   "source": [
    "## Удаление ненужных столбцов после обработки категор данных"
   ]
  },
  {
   "cell_type": "code",
   "execution_count": null,
   "id": "d5c88ab7",
   "metadata": {},
   "outputs": [],
   "source": [
    "df = df.drop(columns=['education','fnlwgt','capital-gain','capital-loss'])\n",
    "df.head()"
   ]
  },
  {
   "cell_type": "markdown",
   "id": "6e2d4f36",
   "metadata": {},
   "source": [
    "# Column Transformer"
   ]
  },
  {
   "cell_type": "code",
   "execution_count": null,
   "id": "e9b4b20a",
   "metadata": {},
   "outputs": [],
   "source": [
    "# доп трансф для изменений\n",
    "\n",
    "workclass_map = [{\n",
    "    'col':'workclass', \n",
    "    'mapping':{ 'Other':3, 'Government':1, 'Self-Employed':2, 'Private':0}\n",
    "    }]\n",
    "\n",
    "marital_map = [{\n",
    "    'col':'marital-status',\n",
    "    'mapping':{'Single':1, 'Married':0}\n",
    "    }]\n",
    "\n",
    "occupation_map = [{\n",
    "    'col':'occupation',\n",
    "    'mapping':{'Other-service':4, 'Sales':3,'Physical labor':2, 'Professional':1, 'Intellectual labor':0}\n",
    "    }]\n",
    "education_map = [{\n",
    "    'col':'education',\n",
    "    'mapping':{'School':2, 'Cources':1, 'Higher-educ':0}\n",
    "    }]\n",
    "relationship_map = [{\n",
    "    'col':'relationship',\n",
    "    'mapping':{'Not-in-family':1, 'Family':0}\n",
    "    }]\n",
    "native_country_map = [{\n",
    "    'col':'native-country',\n",
    "    'mapping':{'Other':1, 'United-States':0}\n",
    "    }]\n",
    "sex_map = [{\n",
    "    'col':'sex',\n",
    "    'mapping':{'Female':1, 'Male':0}\n",
    "    }]\n",
    "race_map = [{\n",
    "    'col':'race',\n",
    "    'mapping':{'Other':1, 'White':0}\n",
    "    }]\n",
    "sex_transformer = Pipeline(steps=[\n",
    "    ('ce',ce.OrdinalEncoder(mapping = sex_map))])\n",
    "\n",
    "workclass_transformer = Pipeline(steps=[\n",
    "    ('ce',ce.OrdinalEncoder(mapping = workclass_map))])\n",
    "\n",
    "marital_transformer = Pipeline(steps=[\n",
    "    ('ce',ce.OrdinalEncoder(mapping = marital_map))])\n",
    "\n",
    "occupation_transformer = Pipeline(steps=[\n",
    "    ('ce',ce.OrdinalEncoder(mapping = occupation_map))])\n",
    "\n",
    "race_transformer = Pipeline(steps=[\n",
    "    ('ce',ce.OrdinalEncoder(mapping = race_map))])\n",
    "\n",
    "native_country_transformer = Pipeline(steps=[\n",
    "    ('ce',ce.OrdinalEncoder(mapping = native_country_map))])\n",
    "education_transformer = Pipeline(steps=[\n",
    "    ('ce',ce.OrdinalEncoder(mapping = education_map))])\n",
    "relationship_transformer = Pipeline(steps=[\n",
    "    ('ce',ce.OrdinalEncoder(mapping = relationship_map))])\n",
    "\n",
    "   \n",
    "# для деревьев можно не стандартизировать данные в фичах \n",
    "CT = ColumnTransformer(transformers=[('sex', sex_transformer, ['sex']),\n",
    "                                     ('work', workclass_transformer, ['workclass']),\n",
    "                                     ('matiral', marital_transformer, ['marital-status']),\n",
    "                                     ('occupation', occupation_transformer, ['occupation']),\n",
    "                                     ('race', race_transformer, ['race']),\n",
    "                                     ('native-country',native_country_transformer, ['native-country']),\n",
    "                                     ('education',education_transformer, ['education']),\n",
    "                                     ('relationship',relationship_transformer,['relationship'])],\n",
    "                                      remainder = 'passthrough')\n",
    "\n",
    "##display(CT)\n",
    "\n",
    "#X_CT = CT.fit_transform(X)\n",
    "#display(pd.DataFrame(X_CT))"
   ]
  },
  {
   "cell_type": "code",
   "execution_count": null,
   "id": "39f4569c",
   "metadata": {},
   "outputs": [],
   "source": [
    "df.head()"
   ]
  },
  {
   "cell_type": "markdown",
   "id": "3a0ae4a1",
   "metadata": {},
   "source": [
    "### Main column transf"
   ]
  },
  {
   "cell_type": "code",
   "execution_count": null,
   "id": "b4065d2e",
   "metadata": {},
   "outputs": [],
   "source": [
    "num_features = ['age','hours-per-week','capital-changes']\n",
    "y = np.array(df.income)\n",
    "X = df.drop(columns=['income'])"
   ]
  },
  {
   "cell_type": "code",
   "execution_count": null,
   "id": "c46c8adb",
   "metadata": {},
   "outputs": [],
   "source": [
    "\n",
    "workclass_map = [{\n",
    "    'col':'workclass', \n",
    "    'mapping':{ 'Other':3, 'Government':2, 'Self-Employed':1, 'Private':0}\n",
    "    }]\n",
    "occupation_map = [{\n",
    "    'col':'occupation',\n",
    "    'mapping':{'Other-service':4, 'Sales':3,'Physical labor':2, 'Professional':1, 'Intellectual labor':0}\n",
    "    }]\n",
    "marital_map = [{\n",
    "    'col':'marital-status',\n",
    "    'mapping':{'Separated': 4, 'Widowed': 3, 'Divorced':2, 'Single': 1, 'Married':0}\n",
    "    }]\n",
    "sex_map = [{\n",
    "    'col':'sex',\n",
    "    'mapping':{'Female':1, 'Male':0}\n",
    "    }]\n",
    "race_map = [{\n",
    "    'col':'race',\n",
    "    'mapping':{'Other':1, 'White':0}\n",
    "    }]\n",
    "native_country_map = [{\n",
    "    'col':'native-country',\n",
    "    'mapping':{'Other':1, 'United-States':0}\n",
    "    }]\n",
    "education_map = [{\n",
    "    'col':'education',\n",
    "    'mapping':{'Academia':2, 'School':1, 'Higher-educ':0}\n",
    "    }]\n",
    "relationship_map = [{\n",
    "    'col':'relationship',\n",
    "    'mapping':{'Other':2, 'Not-in-family':1, 'Family':0}\n",
    "    }]\n",
    "\n",
    "sex_transformer = Pipeline(steps=[\n",
    "    ('ce',ce.OrdinalEncoder(mapping = sex_map))])\n",
    "\n",
    "workclass_transformer = Pipeline(steps=[\n",
    "    ('ce',ce.OrdinalEncoder(mapping = workclass_map))])\n",
    "\n",
    "marital_transformer = Pipeline(steps=[\n",
    "    ('ce',ce.OrdinalEncoder(mapping = marital_map))])\n",
    "\n",
    "occupation_transformer = Pipeline(steps=[\n",
    "    ('ce',ce.OrdinalEncoder(mapping = occupation_map))])\n",
    "\n",
    "race_transformer = Pipeline(steps=[\n",
    "    ('ce',ce.OrdinalEncoder(mapping = race_map))])\n",
    "\n",
    "native_country_transformer = Pipeline(steps=[\n",
    "    ('ce',ce.OrdinalEncoder(mapping = native_country_map))])\n",
    "education_transformer = Pipeline(steps=[\n",
    "    ('ce',ce.OrdinalEncoder(mapping = education_map))])\n",
    "relationship_transformer = Pipeline(steps=[\n",
    "    ('ce',ce.OrdinalEncoder(mapping = relationship_map))])\n",
    "\n",
    "   \n",
    "# для деревьев можно не стандартизировать данные в фичах \n",
    "CT = ColumnTransformer(transformers=[('sex', sex_transformer, ['sex']),\n",
    "                                     ('work', workclass_transformer, ['workclass']),\n",
    "                                     ('matiral', marital_transformer, ['marital-status']),\n",
    "                                     ('occupation', occupation_transformer, ['occupation']),\n",
    "                                     ('race', race_transformer, ['race']),\n",
    "                                     ('native-country',native_country_transformer, ['native-country']),\n",
    "                                     ('relationship',relationship_transformer,['relationship'])],\n",
    "                                      remainder = 'passthrough')\n",
    "\n",
    "display(CT)\n",
    "\n",
    "X_CT = CT.fit_transform(X)\n",
    "display(pd.DataFrame(X_CT))"
   ]
  },
  {
   "cell_type": "markdown",
   "id": "5448b0d1",
   "metadata": {},
   "source": [
    "# Features"
   ]
  },
  {
   "cell_type": "code",
   "execution_count": null,
   "id": "b0c73746",
   "metadata": {},
   "outputs": [],
   "source": [
    "X_train, X_test, y_train, y_test = train_test_split(X_CT, y)"
   ]
  },
  {
   "cell_type": "code",
   "execution_count": null,
   "id": "a9929b26",
   "metadata": {},
   "outputs": [],
   "source": [
    "def plot_learnig_tree(estimator, X_train, X_test, y_train, y_test):  \n",
    "    \n",
    "    fig = plt.figure(figsize=(20,5))\n",
    "    ax1 = fig.add_subplot(121)\n",
    "    ax2 = fig.add_subplot(122)\n",
    "    n_estimators = estimator.n_estimators_\n",
    "    zero = np.zeros(n_estimators, dtype=np.float64)\n",
    "    color_one = 'blue'\n",
    "    color_two = 'red'\n",
    "    \n",
    "    train_score = zero\n",
    "    for i, y_pred_train in enumerate(estimator.staged_predict(X_train)):\n",
    "        train_score[i] = accuracy_score(y_train, y_pred_train)\n",
    "    ax1.plot(\n",
    "        (np.arange(train_score.shape[0]) + 1),\n",
    "        train_score,\n",
    "        \"-\",\n",
    "        color=color_one,\n",
    "        label='Train',\n",
    "        )\n",
    "        \n",
    "    test_score = zero\n",
    "    for i, y_pred_test in enumerate(estimator.staged_predict(X_test)):\n",
    "        train_score[i] = accuracy_score(y_test, y_pred_test)    \n",
    "    ax1.plot(\n",
    "        (np.arange(test_score.shape[0]) + 1),\n",
    "        train_score,\n",
    "        \"-\",\n",
    "        color = color_two,\n",
    "        label='Test',\n",
    "        )\n",
    "    ax1.legend(loc='best')\n",
    "\n",
    "\n",
    "    train_deviance = zero\n",
    "    for i, y_pred_train in enumerate(estimator.staged_decision_function(X_train)):\n",
    "        train_deviance[i] = estimator.loss_(y_train, y_pred_train)\n",
    "        \n",
    "    ax2.plot(\n",
    "        (np.arange(train_deviance.shape[0]) + 1),\n",
    "        train_deviance,\n",
    "        '-',\n",
    "        color=color_one,\n",
    "        label=\"score \"+str(round(estimator.score(X_train, y_train),3))\n",
    "    )\n",
    "\n",
    "    test_deviance = zero\n",
    "    for i, y_pred_test in enumerate(estimator.staged_decision_function(X_test)):\n",
    "        test_deviance[i] = estimator.loss_(y_test, y_pred_test)\n",
    "        \n",
    "    ax2.plot(\n",
    "        (np.arange(test_deviance.shape[0]) + 1),\n",
    "        test_deviance,\n",
    "        '-',\n",
    "        color=color_two,\n",
    "        label=\"score \"+str(round(estimator.score(X_test, y_test),3))\n",
    "    )\n",
    "    ax2.legend(loc='best')\n",
    "    \n",
    "\n",
    "clf = GradientBoostingClassifier(n_estimators = 500,random_state=42,learning_rate = 0.09)\n",
    "clf.fit(X_train, y_train)\n",
    "plot_learnig_tree(clf, X_train, X_test, y_train, y_test)\n",
    "\n",
    "clf = GradientBoostingClassifier(n_estimators=6000,random_state=42,learning_rate=0.95)\n",
    "clf.fit(X_train, y_train)\n",
    "plot_learnig_tree(clf, X_train, X_test, y_train, y_test)\n"
   ]
  },
  {
   "cell_type": "code",
   "execution_count": null,
   "id": "0f731961",
   "metadata": {},
   "outputs": [],
   "source": [
    "clf = GradientBoostingClassifier(n_estimators = 10000,learning_rate = 0.95)\n",
    "clf.fit(X_CT, y)\n",
    "clf.score(X_CT,y)"
   ]
  },
  {
   "cell_type": "code",
   "execution_count": null,
   "id": "4049e09b",
   "metadata": {},
   "outputs": [],
   "source": [
    "original_params = {\n",
    "    \"n_estimators\": 100,\n",
    "    \"random_state\": 42,\n",
    "    'criterion': 'friedman_mse'\n",
    "    \n",
    "}\n",
    "\n",
    "fig = plt.figure(figsize=(20,5))\n",
    "ax1 = fig.add_subplot(131)\n",
    "ax2 = fig.add_subplot(132)\n",
    "ax3 = fig.add_subplot(133)\n",
    "\n",
    "for label, color, setting in [\n",
    "    (\"Полный шаг\", \"red\", {\"learning_rate\": 1, \"subsample\": 1.0}),\n",
    "    (\"Шаг 0.5\", \"orange\", {\"learning_rate\": 0.5, \"subsample\": 1.0}),\n",
    "    (\"Шаг 0.1\", \"blue\",   {\"learning_rate\": 0.1, \"subsample\": 1.0}),\n",
    "    (\"Шаг 0.1, фичи=sqrt\",\n",
    "              \"lightblue\", {\"learning_rate\": 0.1, \"subsample\": 1.0, \"max_features\": 'sqrt'},\n",
    "    ),\n",
    "    (\"learning_rate=0.1, лист до 5\",\n",
    "               \"darkblue\", {\"learning_rate\": 0.1, \"subsample\": 1.0, \"min_samples_split\" : 5},\n",
    "    ),\n",
    "    (\"learning_rate=0.1, баггинг=0.75\",\n",
    "                  \"green\", {\"learning_rate\": 0.1, \"subsample\": 0.75},\n",
    "    ),\n",
    "    (\"learning_rate=0.1, баггинг=0.75, лист до 5\",\n",
    "             \"lightgreen\", {\"learning_rate\": 0.1, \"subsample\": 0.75, \"min_samples_split\" : 5},\n",
    "    ),\n",
    "    (\"learning_rate=0.01, баггинг=0.5, лист до 5, фичи-часть\",\n",
    "             \"black\", {\"learning_rate\": 0.01, \"subsample\": 0.5, \"min_samples_split\" : 5, \"max_features\": 'sqrt'},\n",
    "    ),\n",
    "]:\n",
    "    params = dict(original_params)\n",
    "    params.update(setting)\n",
    "\n",
    "    clf = GradientBoostingClassifier(**params)\n",
    "    clf.fit(X_train, y_train)\n",
    "    \n",
    "    train_deviance = np.zeros((params[\"n_estimators\"],), dtype=np.float64)\n",
    "    for i, y_pred in enumerate(clf.staged_decision_function(X_train)):\n",
    "        train_deviance[i] = clf.loss_(y_train, y_pred)\n",
    "        \n",
    "    ax1.plot(\n",
    "        (np.arange(train_deviance.shape[0]) + 1),\n",
    "        train_deviance,\n",
    "        \"-\",\n",
    "        color=color,\n",
    "        label=label,\n",
    "    )\n",
    "\n",
    "    test_score = np.zeros((params[\"n_estimators\"],), dtype=np.float64)\n",
    "    for i, y_pred in enumerate(clf.staged_predict(X_test)):\n",
    "        #clf.loss_ assumes that y_test[i] in {0, 1}\n",
    "        test_score[i] = accuracy_score(y_test, y_pred)\n",
    "        \n",
    "    ax2.plot(\n",
    "        (np.arange(test_score.shape[0]) + 1),\n",
    "        test_score,\n",
    "        \"-\",\n",
    "        color=color,\n",
    "        label=label,\n",
    "    )\n",
    "    \n",
    "    test_deviance = np.zeros((params[\"n_estimators\"],), dtype=np.float64)\n",
    "    for i, y_pred in enumerate(clf.staged_decision_function(X_test)):\n",
    "        #clf.loss_ assumes that y_test[i] in {0, 1}\n",
    "        test_deviance[i] = clf.loss_(y_test, y_pred)\n",
    "        \n",
    "\n",
    "    ax3.plot(\n",
    "        (np.arange(test_deviance.shape[0]) + 1),\n",
    "        test_deviance,\n",
    "        \"-\",\n",
    "        color=color,\n",
    "        label=label,\n",
    "    )\n",
    "\n",
    "#ax2.legend(loc='lower center')\n",
    "ax2.set_xlabel(\"Boosting Iterations\")\n",
    "ax2.set_ylim(0.8, 1.)\n",
    "ax1.set_ylabel(\"Train Set Deviance\")\n",
    "ax2.set_ylabel(\"Accuracy\")\n",
    "ax3.set_ylabel(\"Test Set Deviance\")\n",
    "\n",
    "plt.show()"
   ]
  },
  {
   "cell_type": "code",
   "execution_count": null,
   "id": "d0954c09",
   "metadata": {},
   "outputs": [],
   "source": [
    "gbrt = GradientBoostingClassifier(learning_rate= 0.95 , subsample=0.75, n_estimators=500)\n",
    "gbrt.fit(X_CT, y)\n",
    "y_pred = gbrt.predict(X_CT)\n",
    "\n",
    "ConfusionMatrixDisplay(confusion_matrix(y,y_pred)).plot();"
   ]
  },
  {
   "cell_type": "code",
   "execution_count": null,
   "id": "870c5b3d",
   "metadata": {},
   "outputs": [],
   "source": [
    "rf = RandomForestClassifier(n_estimators = 70)\n",
    "rf.fit(X_CT, y)\n",
    "y_pred = rf.predict(X_CT)\n",
    "\n",
    "ConfusionMatrixDisplay(confusion_matrix(y,y_pred)).plot();"
   ]
  },
  {
   "cell_type": "code",
   "execution_count": null,
   "id": "181e4e1e",
   "metadata": {},
   "outputs": [],
   "source": [
    "RocCurveDisplay.from_predictions(y, y_pred);\n",
    "DetCurveDisplay.from_predictions(y, y_pred);\n",
    "PrecisionRecallDisplay.from_predictions(y, y_pred);"
   ]
  },
  {
   "cell_type": "code",
   "execution_count": null,
   "id": "78cc2ca9",
   "metadata": {},
   "outputs": [],
   "source": [
    "pd.DataFrame(X_CT)"
   ]
  },
  {
   "cell_type": "markdown",
   "id": "6667c387",
   "metadata": {},
   "source": [
    "# Модели для примерного отбора"
   ]
  },
  {
   "cell_type": "code",
   "execution_count": null,
   "id": "831d46a3",
   "metadata": {},
   "outputs": [],
   "source": [
    "rf = RandomForestClassifier(n_estimators=100)\n",
    "rf.fit(X_CT,y)\n",
    "rf.score(X_CT,y)"
   ]
  },
  {
   "cell_type": "code",
   "execution_count": null,
   "id": "b3818166",
   "metadata": {},
   "outputs": [],
   "source": [
    "rff = RandomForestClassifier(n_estimators=1050)\n",
    "rff.fit(X_CT,y)\n",
    "rff.score(X_CT,y)"
   ]
  },
  {
   "cell_type": "code",
   "execution_count": null,
   "id": "386f0001",
   "metadata": {},
   "outputs": [],
   "source": [
    "y_predict = rf.predict(X_CT)"
   ]
  },
  {
   "cell_type": "code",
   "execution_count": null,
   "id": "c2295f2d",
   "metadata": {},
   "outputs": [],
   "source": [
    "roc_auc_score(y,y_predict)"
   ]
  },
  {
   "cell_type": "code",
   "execution_count": null,
   "id": "572a3ddb",
   "metadata": {},
   "outputs": [],
   "source": [
    "ada = AdaBoostClassifier(base_estimator = RandomForestClassifier(n_estimators = 200))\n",
    "ada.fit(X_CT,y)\n",
    "ada.score(X_CT,y)"
   ]
  },
  {
   "cell_type": "code",
   "execution_count": null,
   "id": "813c5335",
   "metadata": {},
   "outputs": [],
   "source": [
    "y_predict = ada.predict(X)"
   ]
  },
  {
   "cell_type": "code",
   "execution_count": null,
   "id": "ed705eff",
   "metadata": {},
   "outputs": [],
   "source": [
    "accuracy_score(y,y_predict)"
   ]
  },
  {
   "cell_type": "code",
   "execution_count": null,
   "id": "b3e970bf",
   "metadata": {},
   "outputs": [],
   "source": [
    "clf = svm.SVC(kernel='rbf')\n",
    "clf.fit(X_CT,y)\n",
    "clf.score(X_CT,y)"
   ]
  },
  {
   "cell_type": "code",
   "execution_count": null,
   "id": "50bda99f",
   "metadata": {},
   "outputs": [],
   "source": [
    "y_predict = clf.predict(X_CT)"
   ]
  },
  {
   "cell_type": "code",
   "execution_count": null,
   "id": "e5e61a14",
   "metadata": {},
   "outputs": [],
   "source": [
    "accuracy_score(y,y_predict)"
   ]
  },
  {
   "cell_type": "code",
   "execution_count": null,
   "id": "613c3ac2",
   "metadata": {},
   "outputs": [],
   "source": [
    "knn = KNeighborsClassifier(n_neighbors = 50, p = 3)\n",
    "knn.fit(X_CT,y)\n",
    "knn.score(X_CT,y)"
   ]
  },
  {
   "cell_type": "code",
   "execution_count": null,
   "id": "7b2263cd",
   "metadata": {},
   "outputs": [],
   "source": [
    "sgd = SGDClassifier(penalty='l1',alpha=0.05)\n",
    "sgd.fit(X_CT,y)\n",
    "sgd.score(X_CT,y)"
   ]
  },
  {
   "cell_type": "code",
   "execution_count": null,
   "id": "6cc58494",
   "metadata": {},
   "outputs": [],
   "source": [
    "from sklearn.ensemble import HistGradientBoostingClassifier\n",
    "gbdt = HistGradientBoostingClassifier(learning_rate=0.09)\n",
    "gbdt.fit(X_CT,y)\n",
    "gbdt.score(X_CT,y)"
   ]
  },
  {
   "cell_type": "markdown",
   "id": "78bda2fc",
   "metadata": {},
   "source": [
    "# Voting"
   ]
  },
  {
   "cell_type": "code",
   "execution_count": null,
   "id": "3decd7ee",
   "metadata": {},
   "outputs": [],
   "source": [
    "clf1 = DecisionTreeClassifier()\n",
    "clf2 = RandomForestClassifier(n_estimators=100)\n",
    "clf3 = HistGradientBoostingClassifier(learning_rate=0.09)\n",
    "\n",
    "eclf = VotingClassifier(\n",
    "    estimators=[('tree', clf1), ('rf', clf2), ('hisb', clf3)],\n",
    "    voting='hard')\n",
    "\n",
    "for clf, label in zip([clf1, clf2, clf3, eclf], ['Logistic Regression', 'Random Forest', \n",
    "                                                 'histb', 'Ensemble']):\n",
    "    scores = cross_val_score(clf, X_CT, y, scoring='accuracy', cv=5)\n",
    "    print(\"Accuracy: %0.2f (+/- %0.2f) [%s]\" % (scores.mean(), scores.std(), label))\n",
    "\n",
    "f, axes = plt.subplots(1, 4, figsize=(20, 4))\n",
    "for i,(clf, label) in enumerate(zip([clf1, clf2, clf3, eclf], ['Tree', \n",
    "                                                               'Random Forest', 'ADA', 'Ensemble'])):\n",
    "    y_pred = clf.fit(X_CT, y).predict(X_CT) \n",
    "    disp = ConfusionMatrixDisplay(confusion_matrix(y,y_pred))\n",
    "    disp.plot(ax=axes[i], xticks_rotation=45)\n",
    "    disp.ax_.set_title(label)\n",
    "    disp.im_.colorbar.remove()\n"
   ]
  },
  {
   "cell_type": "code",
   "execution_count": null,
   "id": "52d3f3ea",
   "metadata": {},
   "outputs": [],
   "source": [
    "# Training classifiers\n",
    "clf1 = DecisionTreeClassifier()\n",
    "clf2 = RandomForestClassifier(n_estimators=100)\n",
    "clf3 = GradientBoostingClassifier(learning_rate= 0.95 , subsample=0.75, n_estimators=500)\n",
    "eclf = VotingClassifier(estimators=[('dt', clf1), ('rf', clf2), ('grad', clf3)],\n",
    "                        voting='soft', weights=[2, 1, 2])\n",
    "\n",
    "for clf, label in zip([clf1, clf2, clf3, eclf], ['DecisionTree', \n",
    "                                                    'RandomForest', 'GradB', 'Ensemble']):\n",
    "    scores = cross_val_score(clf, X_CT, y, scoring='accuracy', cv=5)\n",
    "    print(\"Accuracy: %0.2f (+/- %0.2f) [%s]\" % (scores.mean(), scores.std(), label))\n",
    "\n",
    "\n",
    "f, axes = plt.subplots(1, 4, figsize=(20, 4))\n",
    "for i,(clf, label) in enumerate(zip([clf1, clf2, clf3, eclf], ['DecisionTree', \n",
    "                                                               'RandomForest', 'GradB', 'Ensemble'])):\n",
    "    y_pred = clf.fit(X_CT, y).predict(X_CT) \n",
    "    disp = ConfusionMatrixDisplay(confusion_matrix(y,y_pred), )\n",
    "    disp.plot(ax=axes[i], xticks_rotation=45)\n",
    "    disp.ax_.set_title(label)\n",
    "    disp.im_.colorbar.remove()\n",
    "\n",
    "\n",
    "clf1 = clf1.fit(X_CT, y)\n",
    "clf2 = clf2.fit(X_CT, y)\n",
    "clf3 = clf3.fit(X_CT, y)\n",
    "eclf = eclf.fit(X_CT, y)\n",
    "\n",
    "# Plotting decision regions\n",
    "f, axarr = plt.subplots(2, 2, sharex=\"col\", sharey=\"row\", figsize=(10, 8))\n",
    "for idx, clf, tt in zip(\n",
    "    product([0, 1], [0, 1]),\n",
    "    [clf1, clf2, clf3, eclf],\n",
    "    [\"Decision Tree ()\", \"RF (n_est=100)\", \"Grad\", \"Soft Voting\"],\n",
    "):\n",
    "    DecisionBoundaryDisplay.from_estimator(\n",
    "        clf, X, alpha=0.4, ax=axarr[idx[0], idx[1]], response_method=\"predict\"\n",
    "    )\n",
    "    axarr[idx[0], idx[1]].scatter(X[:, 0], X[:, 1], c=y, s=20, edgecolor=\"k\")\n",
    "    axarr[idx[0], idx[1]].set_title(tt)\n",
    "\n",
    "plt.show()"
   ]
  },
  {
   "cell_type": "code",
   "execution_count": null,
   "id": "4fb04cef",
   "metadata": {},
   "outputs": [],
   "source": [
    "df.workclass = df.workclass.replace('Private',0)\n",
    "df.workclass = df.workclass.replace('Self-Employed',1)\n",
    "df.workclass = df.workclass.replace('Government',2)\n",
    "df.workclass = df.workclass.replace('Other',3)\n",
    "\n",
    "df.occupation = df.occupation.replace('Intellectual labor',0)\n",
    "df.occupation = df.occupation.replace('Professional',1)\n",
    "df.occupation = df.occupation.replace('Physical labor',2)\n",
    "df.occupation = df.occupation.replace('Sales',3)\n",
    "df.occupation = df.occupation.replace('Other-service',4)\n",
    "\n",
    "df['marital-status'] = df['marital-status'].replace('Married',0)\n",
    "df['marital-status'] = df['marital-status'].replace('Single',1)\n",
    "df['marital-status'] = df['marital-status'].replace('Divorced',2)\n",
    "df['marital-status'] = df['marital-status'].replace('Widowed',3)\n",
    "df['marital-status'] = df['marital-status'].replace('Separated',4)\n",
    "\n",
    "df.sex = df.sex.replace('Male',0)\n",
    "df.sex = df.sex.replace('Female',1)\n",
    "\n",
    "df.race = df.race.replace('White',0)\n",
    "df.race = df.race.replace('Other',1)\n",
    "\n",
    "df['native-country'] = df['native-country'].replace('United-States',0)\n",
    "df['native-country'] = df['native-country'].replace('Other',1)"
   ]
  },
  {
   "cell_type": "code",
   "execution_count": null,
   "id": "d7e4551a",
   "metadata": {},
   "outputs": [],
   "source": [
    "forest = RandomForestClassifier(n_estimators=100)\n",
    "forest.fit(X_CT, y)\n",
    "y_pred = forest.predict(X_CT)\n",
    "print(\"Accuracy on data: {:.2f}\".format(forest.score(X_CT, y)))\n",
    "\n",
    "plt.figure(figsize=(20,10))\n",
    "ConfusionMatrixDisplay(confusion_matrix(y,y_pred)).plot();\n",
    "plt.show();"
   ]
  },
  {
   "cell_type": "code",
   "execution_count": null,
   "id": "5d25f909",
   "metadata": {},
   "outputs": [],
   "source": [
    "y = df['income']\n",
    "X = df.drop(columns=['income'])"
   ]
  },
  {
   "cell_type": "code",
   "execution_count": null,
   "id": "88a51c8e",
   "metadata": {},
   "outputs": [],
   "source": [
    "X_train, X_test, y_train, y_test = train_test_split(X, y, random_state=42)"
   ]
  },
  {
   "cell_type": "code",
   "execution_count": null,
   "id": "42b5b6b4",
   "metadata": {},
   "outputs": [],
   "source": [
    "feature_names = X_train.columns\n",
    "forest_importances = pd.DataFrame(forest.feature_importances_, index=feature_names, columns =['mean'])\n",
    "forest_importances['std'] = np.std([tree.feature_importances_ for tree in forest.estimators_], axis=0)\n",
    "\n",
    "sort_forest = forest_importances.sort_values(by='mean')\n",
    "\n",
    "\n",
    "fig, ax = plt.subplots(figsize=(15,10))\n",
    "col = sort_forest['mean']\n",
    "yerr = sort_forest['std']\n",
    "col.plot.bar(yerr=yerr, ax=ax)\n",
    "ax.set_title(\"Feature importances using MDI\")\n",
    "ax.set_ylabel(\"Mean decrease in impurity\")\n",
    "fig.tight_layout()\n",
    "\n",
    "display(sort_forest.tail(5))"
   ]
  },
  {
   "cell_type": "code",
   "execution_count": null,
   "id": "b77f8c7a",
   "metadata": {},
   "outputs": [],
   "source": [
    "result = permutation_importance(forest, X_train, y_train, n_repeats=20, random_state=42)\n",
    "\n",
    "perm_sorted_idx = result.importances_mean.argsort()\n",
    "tree_importance_sorted_idx = np.argsort(forest.feature_importances_)\n",
    "tree_indices = np.arange(0, len(forest.feature_importances_)) + 0.5\n",
    "\n",
    "fig, (ax1, ax2) = plt.subplots(1, 2, figsize=(12, 8))\n",
    "\n",
    "ax1.barh(tree_indices, forest.feature_importances_[tree_importance_sorted_idx], height=0.7)\n",
    "ax1.set_yticks(tree_indices)\n",
    "ax1.set_yticklabels(X_train.columns[tree_importance_sorted_idx])\n",
    "ax1.set_ylim((0, len(forest.feature_importances_)))\n",
    "ax2.boxplot(\n",
    "    result.importances[perm_sorted_idx].T,\n",
    "    vert=False,\n",
    "    labels=X_train.columns[perm_sorted_idx],\n",
    ")\n",
    "fig.tight_layout()\n",
    "plt.show()"
   ]
  },
  {
   "cell_type": "code",
   "execution_count": null,
   "id": "1fbcda2a",
   "metadata": {},
   "outputs": [],
   "source": [
    "from scipy.stats import spearmanr\n",
    "from scipy.spatial.distance import squareform\n",
    "from scipy.cluster import hierarchy\n",
    "\n",
    "fig, (ax1, ax2) = plt.subplots(1, 2, figsize=(12, 8))\n",
    "corr = spearmanr(X_train).correlation\n",
    "\n",
    "# Ensure the correlation matrix is symmetric\n",
    "corr = (corr + corr.T) / 2\n",
    "np.fill_diagonal(corr, 1)\n",
    "\n",
    "# We convert the correlation matrix to a distance matrix before performing\n",
    "# hierarchical clustering using Ward's linkage.\n",
    "distance_matrix = 1 - np.abs(corr)\n",
    "dist_linkage = hierarchy.ward(squareform(distance_matrix))\n",
    "dendro = hierarchy.dendrogram(\n",
    "    dist_linkage, labels = X_train.columns,\n",
    "    ax=ax1, leaf_rotation=90\n",
    ")\n",
    "dendro_idx = np.arange(0, len(dendro[\"ivl\"]))\n",
    "\n",
    "ax1.axhline(y=0.8, color='r', linestyle='--')\n",
    "\n",
    "\n",
    "# distance_matrix = 1 - np.abs(corr)\n",
    "# dist_linkage = hierarchy.ward(squareform(distance_matrix))\n",
    "# dendro = hierarchy.dendrogram(\n",
    "#     dist_linkage, \n",
    "#     ax=ax2, leaf_rotation=90\n",
    "# )\n",
    "\n",
    "ax2.imshow(corr[dendro[\"leaves\"], :][:, dendro[\"leaves\"]])\n",
    "ax2.set_xticks(dendro_idx)\n",
    "ax2.set_yticks(dendro_idx)\n",
    "ax2.set_xticklabels(X_train.columns[dendro[\"leaves\"]], rotation=\"vertical\")\n",
    "ax2.set_yticklabels(X_train.columns[dendro[\"leaves\"]])\n",
    "fig.tight_layout()\n",
    "plt.show()"
   ]
  },
  {
   "cell_type": "code",
   "execution_count": null,
   "id": "e0d2ca41",
   "metadata": {},
   "outputs": [],
   "source": [
    "from collections import defaultdict\n",
    "\n",
    "cluster_ids = hierarchy.fcluster(dist_linkage, 1, criterion=\"distance\")\n",
    "cluster_id_to_feature_ids = defaultdict(list)\n",
    "for idx, cluster_id in enumerate(cluster_ids):\n",
    "    cluster_id_to_feature_ids[cluster_id].append(idx)\n",
    "selected_features = [v[0] for v in cluster_id_to_feature_ids.values()]\n",
    "\n",
    "X_train_sel = X_train.iloc[:, selected_features]\n",
    "X_test_sel = X_test.iloc[:, selected_features]\n",
    "\n",
    "clf_sel = RandomForestClassifier(n_estimators=100, random_state=42)\n",
    "clf_sel.fit(X_train_sel, y_train)\n",
    "print(\n",
    "    \"Точность тестовых данных с удаленными признаками: {:.2f}\".format(\n",
    "        clf_sel.score(X_test_sel, y_test)\n",
    "    )\n",
    ")\n",
    "y_pred_train = clf_sel.predict(X_train_sel)\n",
    "y_pred = clf_sel.predict(X_test_sel)\n",
    "\n",
    "fig, (ax1, ax2) = plt.subplots(1, 2, figsize=(10, 3))\n",
    "ConfusionMatrixDisplay(confusion_matrix(y_train,y_pred_train)).plot(ax=ax1);\n",
    "ConfusionMatrixDisplay(confusion_matrix(y_test,y_pred)).plot(ax=ax2);\n",
    "plt.show();\n",
    "\n",
    "\n",
    "selected_features_names = X_train.columns[selected_features]\n",
    "\n",
    "\n",
    "print(selected_features)\n",
    "print(selected_features_names)\n",
    "\n",
    "\n",
    "\n",
    "fig, (ax1, ax2) = plt.subplots(1, 2, figsize=(12, 8))\n",
    "\n",
    "dist_linkage = hierarchy.ward(squareform(distance_matrix))\n",
    "dendro = hierarchy.dendrogram(\n",
    "    dist_linkage, labels = X_train.columns,\n",
    "    ax=ax1, leaf_rotation=90\n",
    ")\n",
    "\n",
    "ax1.axhline(y=0.8, color='r', linestyle='--')\n",
    "\n",
    "[ax1.get_xticklabels()[dendro[\"leaves\"].index(i)].set_color('red') for i  in selected_features];\n",
    "\n",
    "ax2.imshow(corr[dendro[\"leaves\"], :][:, dendro[\"leaves\"]])\n",
    "ax2.set_xticks(dendro_idx)\n",
    "ax2.set_yticks(dendro_idx)\n",
    "ax2.set_xticklabels(X_train.columns[dendro[\"leaves\"]], rotation=\"vertical\")\n",
    "ax2.set_yticklabels(X_train.columns[dendro[\"leaves\"]])\n",
    "fig.tight_layout()\n",
    "[ax2.get_xticklabels()[dendro[\"leaves\"].index(i)].set_color('red') for i  in selected_features];\n",
    "[ax2.get_yticklabels()[dendro[\"leaves\"].index(i)].set_color('red') for i  in selected_features];\n",
    "plt.show()"
   ]
  },
  {
   "cell_type": "code",
   "execution_count": null,
   "id": "46335f00",
   "metadata": {},
   "outputs": [],
   "source": [
    "result = permutation_importance(clf_sel, X_train_sel, y_train, n_repeats=10, random_state=42)\n",
    "\n",
    "perm_sorted_idx = result.importances_mean.argsort()\n",
    "tree_importance_sorted_idx = np.argsort(clf_sel.feature_importances_)\n",
    "tree_indices = np.arange(0, len(clf_sel.feature_importances_)) + 0.5\n",
    "\n",
    "fig, (ax1, ax2) = plt.subplots(1, 2, figsize=(12, 8))\n",
    "\n",
    "ax1.barh(tree_indices, clf_sel.feature_importances_[tree_importance_sorted_idx], height=0.7)\n",
    "ax1.set_yticks(tree_indices)\n",
    "ax1.set_yticklabels(selected_features_names[tree_importance_sorted_idx])\n",
    "ax1.set_ylim((0, len(clf_sel.feature_importances_)))\n",
    "ax2.boxplot(\n",
    "    result.importances[perm_sorted_idx].T,\n",
    "    vert=False,\n",
    "    labels=selected_features_names[perm_sorted_idx],\n",
    ")\n",
    "fig.tight_layout()\n",
    "plt.show()"
   ]
  },
  {
   "cell_type": "code",
   "execution_count": null,
   "id": "f09229e7",
   "metadata": {},
   "outputs": [],
   "source": [
    "feature_names = selected_features_names[tree_importance_sorted_idx]\n",
    "forest_importances = pd.DataFrame(clf_sel.feature_importances_, \n",
    "                                  index=selected_features_names, \n",
    "                                  columns =['mean'])\n",
    "forest_importances['std'] = np.std([tree.feature_importances_ for tree in clf_sel.estimators_], axis=0)\n",
    "\n",
    "sort_forest = forest_importances.sort_values(by='mean')\n",
    "\n",
    "\n",
    "fig, ax = plt.subplots(figsize=(15,10))\n",
    "col = sort_forest['mean']\n",
    "yerr = sort_forest['std']\n",
    "col.plot.bar(yerr=yerr, ax=ax)\n",
    "ax.set_title(\"Feature importances using MDI\")\n",
    "ax.set_ylabel(\"Mean decrease in impurity\")\n",
    "fig.tight_layout()\n",
    "\n",
    "display(sort_forest)"
   ]
  },
  {
   "cell_type": "code",
   "execution_count": null,
   "id": "9a141dd5",
   "metadata": {},
   "outputs": [],
   "source": [
    "from sklearn.feature_selection import SelectPercentile\n",
    "\n",
    "\n",
    "# задаем определенное стартовое значение для воспроизводимости результата\n",
    "rng = np.random.RandomState(42)\n",
    "noise = rng.normal(size=(len(X),11 ))\n",
    "# добавляем к данным шумовые признаки\n",
    "# первые 30 признаков являются исходными, остальные 50 являются шумовыми\n",
    "X_w_noise = np.hstack([X, noise])\n",
    "\n",
    "X_train, X_test, y_train, y_test = train_test_split(X_w_noise, y, random_state = 42, test_size=.5)\n",
    "# используем f_classif (по умолчанию)\n",
    "# и SelectPercentile, чтобы выбрать 50% признаков\n",
    "select_pct = SelectPercentile(percentile=50)\n",
    "select_pct.fit(X_train, y_train)\n",
    "# преобразовываем обучающий набор\n",
    "X_train_selected = select_pct.transform(X_train)\n",
    "\n",
    "print(\"форма массива X_train: {}\".format(X_train.shape))\n",
    "print(\"форма массива X_train_selected: {}\".format(X_train_selected.shape))"
   ]
  },
  {
   "cell_type": "code",
   "execution_count": null,
   "id": "4afc4a2b",
   "metadata": {},
   "outputs": [],
   "source": [
    "mask = select_pct.get_support()\n",
    "plt.matshow( mask.reshape(1,-1), cmap = 'gray_r', aspect=0.5)\n",
    "plt.yticks([])\n",
    "plt.xlabel(\"Индекс признака\");\n",
    "\n",
    "mask = select_pct.get_support()[:30]\n",
    "plt.matshow( mask.reshape(1,-1), cmap = 'gray_r', aspect=0.2)\n",
    "plt.yticks([])\n",
    "plt.xlabel(\"Индекс признака\");"
   ]
  },
  {
   "cell_type": "code",
   "execution_count": null,
   "id": "2499fdaa",
   "metadata": {},
   "outputs": [],
   "source": [
    "X_train, X_test, y_train, y_test = train_test_split(X,y, random_state=42)\n",
    "\n",
    "rfc = RandomForestClassifier(n_estimators=100, random_state=42)\n",
    "rfc.fit(X_train,y_train)\n",
    "\n",
    "plt.figure(figsize=(15,8))\n",
    "feature_names = np.array(X_train.columns)\n",
    "#importance = rfc.feature_importances_\n",
    "\n",
    "importance = np.sort(rfc.feature_importances_)\n",
    "importance_name = np.argsort(rfc.feature_importances_)\n",
    "\n",
    "plt.barh(width=importance, y = feature_names[importance_name] )\n",
    "ax = plt.gca()\n",
    "ax.invert_yaxis()\n",
    "plt.title(\"Важность признаков\")\n",
    "plt.show()"
   ]
  },
  {
   "cell_type": "code",
   "execution_count": null,
   "id": "11637b5d",
   "metadata": {},
   "outputs": [],
   "source": [
    "importance = rfc.feature_importances_\n",
    "\n",
    "plt.figure(figsize=(15,8))\n",
    "plt.barh(width=importance, y=feature_names)\n",
    "plt.gca().invert_yaxis()\n",
    "plt.title(\"Важность признаков\")\n",
    "plt.show()\n",
    "\n",
    "mask = importance\n",
    "plt.matshow( mask.reshape(1,-1), cmap = 'Blues', aspect=0.3)\n",
    "plt.yticks([])\n",
    "plt.gca().xaxis.set_major_locator(plt.MultipleLocator(1))\n",
    "plt.xlabel(\"Индекс признака\");"
   ]
  },
  {
   "cell_type": "code",
   "execution_count": null,
   "id": "0bf8779a",
   "metadata": {},
   "outputs": [],
   "source": [
    "from sklearn.feature_selection  import RFE\n",
    "\n",
    "X_train, X_test, y_train, y_test = train_test_split(X_w_noise, y, random_state=42)\n",
    "\n",
    "rfe_select = RFE(RandomForestClassifier(n_estimators=100, random_state=42),\n",
    "             n_features_to_select=11)\n",
    "\n",
    "rfe_select.fit(X_train, y_train)\n",
    "\n",
    "\n",
    "# визуализируем отобранные признаки:\n",
    "mask = rfe_select.get_support()\n",
    "plt.matshow( mask.reshape(1,-1), cmap = 'gray_r', aspect=0.5)\n",
    "plt.yticks([])\n",
    "plt.gca().xaxis.set_minor_locator(plt.MultipleLocator(1))\n",
    "plt.xlabel(\"Индекс признака\");\n",
    "\n",
    "mask = rfe_select.get_support()[:30]\n",
    "plt.matshow( mask.reshape(1,-1), cmap = 'gray_r', aspect=0.2)\n",
    "plt.yticks([])\n",
    "plt.gca().xaxis.set_major_locator(plt.MultipleLocator(1))\n",
    "plt.xlabel(\"Индекс признака\");"
   ]
  },
  {
   "cell_type": "code",
   "execution_count": null,
   "id": "ae24e18c",
   "metadata": {},
   "outputs": [],
   "source": [
    "from sklearn.feature_selection import SequentialFeatureSelector\n",
    "X_train, X_test, y_train, y_test = train_test_split(X,y, random_state = 42)\n",
    "\n",
    "select_f = SequentialFeatureSelector(\n",
    "             RandomForestClassifier(n_estimators=100, random_state=42),\n",
    "             n_features_to_select = 10 , \n",
    "             direction=\"forward\")\n",
    "\n",
    "select_f.fit(X_train, y_train)\n",
    "# визуализируем отобранные признаки:\n",
    "mask = select_f.get_support()\n",
    "plt.matshow(mask.reshape(1,-1), cmap = 'gray_r', aspect=0.3)\n",
    "plt.yticks([])\n",
    "plt.xlabel(\"Индекс признака\");\n",
    "plt.show();"
   ]
  },
  {
   "cell_type": "code",
   "execution_count": null,
   "id": "5f12cca1",
   "metadata": {},
   "outputs": [],
   "source": [
    "rd = RandomForestClassifier(n_estimators=100)\n",
    "rd.fit(X,y)\n",
    "rd.score(X,y)"
   ]
  },
  {
   "cell_type": "code",
   "execution_count": null,
   "id": "782b97bc",
   "metadata": {},
   "outputs": [],
   "source": [
    "gbrt = GradientBoostingClassifier(n_estimators=100, learning_rate=0.1)\n",
    "gbrt.fit(X_CT, y)\n",
    "print('Правильность на обучающем наборе: {:.3f}'.format(gbrt.score(X_CT, y)))"
   ]
  },
  {
   "cell_type": "code",
   "execution_count": null,
   "id": "d70adaa2",
   "metadata": {},
   "outputs": [],
   "source": [
    "# отбираю эту модель\n",
    "forest = RandomForestClassifier(n_estimators=100)\n",
    "forest.fit(X_CT, y)\n",
    "y_pred = forest.predict(X_CT)\n",
    "print(\"Accuracy on data: {:.2f}\".format(forest.score(X_CT, y)))\n",
    "\n",
    "plt.figure(figsize=(20,10))\n",
    "ConfusionMatrixDisplay(confusion_matrix(y,y_pred)).plot();\n",
    "plt.show();"
   ]
  },
  {
   "cell_type": "markdown",
   "id": "33cb3e93",
   "metadata": {},
   "source": [
    "# 3 блок"
   ]
  },
  {
   "cell_type": "code",
   "execution_count": null,
   "id": "5a00d4e9",
   "metadata": {},
   "outputs": [],
   "source": [
    "path_train = pd.read_csv('income_train.csv')\n",
    "df = pd.DataFrame(path_train)\n",
    "df['income'] = np.where(df['income']== '>50K',1,0)\n",
    "display(df.head(),df.shape)\n",
    "\n",
    "path_test = pd.read_csv('income_test.csv')\n",
    "df1 = pd.DataFrame(path_test)\n",
    "display(df1.head())\n",
    "df1.shape"
   ]
  },
  {
   "cell_type": "markdown",
   "id": "c557052d",
   "metadata": {},
   "source": [
    "## Делаем обработку df (т.е train)"
   ]
  },
  {
   "cell_type": "code",
   "execution_count": null,
   "id": "2a5b3100",
   "metadata": {},
   "outputs": [],
   "source": [
    "df = df.replace('?',np.NaN)\n",
    "df = df.dropna()\n",
    "# это выброс, тк рядом значений нет, а самое близкое к этому это где-то 43000\n",
    "df = df.drop(df[df['capital-gain'] == 99999].index)\n",
    "display(df.head(),df.shape)"
   ]
  },
  {
   "cell_type": "code",
   "execution_count": null,
   "id": "0e0e2cd7",
   "metadata": {},
   "outputs": [],
   "source": [
    "#### Relationship\n",
    "df.relationship = df.relationship.replace('Husband','Family')\n",
    "df.relationship = df.relationship.replace('Wife','Family')\n",
    "df.relationship = df.relationship.replace('Unmarried','Not-in-family')\n",
    "df.relationship = df.relationship.replace('Own-child','Other')\n",
    "df.relationship = df.relationship.replace('Other-relative','Other')\n",
    "###### Occupation\n",
    "df.occupation = df.occupation.replace('Prof-specialty','Professional')\n",
    "df.occupation = df.occupation.replace('Craft-repair','Physical labor') # blue - рабочий класс(почасовая полата) - физич труд\n",
    "df.occupation = df.occupation.replace('Exec-managerial','Intellectual labor') # white - наемный работник(доход в месяц) - умственный\n",
    "df.occupation = df.occupation.replace('Adm-clerical','Intellectual labor') # white\n",
    "df.occupation = df.occupation.replace('Machine-op-inspct','Physical labor') # blue\n",
    "df.occupation = df.occupation.replace('Transport-moving','Physical labor')# blue\n",
    "df.occupation = df.occupation.replace('Handlers-cleaners','Physical labor') # blue\n",
    "df.occupation = df.occupation.replace('Farming-fishing','Physical labor')# blue\n",
    "df.occupation = df.occupation.replace('Tech-support','Other-service')\n",
    "df.occupation = df.occupation.replace('Protective-serv','Other-service')\n",
    "df.occupation = df.occupation.replace('Priv-house-serv','Other-service')\n",
    "df.occupation = df.occupation.replace('Armed-Forces','Other-service')\n",
    "##### Workclass\n",
    "df.workclass = df.workclass.replace('Federal-gov','Government')\n",
    "df.workclass = df.workclass.replace('State-gov','Government')\n",
    "df.workclass = df.workclass.replace('Local-gov','Government')\n",
    "df.workclass = df.workclass.replace('Self-emp-inc','Self-Employed')\n",
    "df.workclass = df.workclass.replace('Self-emp-not-inc','Self-Employed')\n",
    "df.workclass = df.workclass.replace('Never-worked', 'Other')\n",
    "df.workclass = df.workclass.replace('Without-pay', 'Other')\n",
    "#### Marital\n",
    "df['marital-status'] = df['marital-status'].replace('Married-civ-spouse','Married')\n",
    "df['marital-status'] = df['marital-status'].replace('Married-AF-spouse','Married')\n",
    "df['marital-status'] = df['marital-status'].replace('Married-spouse-absent','Married')\n",
    "df['marital-status'] = df['marital-status'].replace('Never-married','Single')\n",
    "##### Race\n",
    "df.race = df.race.replace('Black','Other')\n",
    "df.race = df.race.replace('Asian-Pac-Islander','Other')\n",
    "df.race = df.race.replace('Amer-Indian-Eskimo','Other')\n",
    "##### Country\n",
    "country = df['native-country'].unique()\n",
    "def zamena_country(data):\n",
    "    for i in country:\n",
    "        if i != 'United-States':\n",
    "            data['native-country'] = data['native-country'].replace(i,'Other')\n",
    "    return data\n",
    "df = zamena_country(df)\n",
    "\n",
    "###### Capital changes\n",
    "df['capital-changes']  = df['capital-gain'] - df['capital-loss']\n",
    "##### \n",
    "df = df.drop(columns=['education','fnlwgt','capital-gain','capital-loss'])\n",
    "df.head()"
   ]
  },
  {
   "cell_type": "markdown",
   "id": "3af62971",
   "metadata": {},
   "source": [
    "## Column Transformer"
   ]
  },
  {
   "cell_type": "code",
   "execution_count": null,
   "id": "fd0d2465",
   "metadata": {},
   "outputs": [],
   "source": [
    "num_features = ['age','hours-per-week','capital-changes']\n",
    "y = np.array(df.income)\n",
    "X = df.drop(columns=['income'])"
   ]
  },
  {
   "cell_type": "code",
   "execution_count": null,
   "id": "ced90d81",
   "metadata": {},
   "outputs": [],
   "source": [
    "workclass_map = [{\n",
    "    'col':'workclass', \n",
    "    'mapping':{ 'Other':3, 'Government':2, 'Self-Employed':1, 'Private':0}\n",
    "    }]\n",
    "occupation_map = [{\n",
    "    'col':'occupation',\n",
    "    'mapping':{'Other-service':4, 'Sales':3,'Physical labor':2, 'Professional':1, 'Intellectual labor':0}\n",
    "    }]\n",
    "marital_map = [{\n",
    "    'col':'marital-status',\n",
    "    'mapping':{'Separated': 4, 'Widowed': 3, 'Divorced':2, 'Single': 1, 'Married':0}\n",
    "    }]\n",
    "sex_map = [{\n",
    "    'col':'sex',\n",
    "    'mapping':{'Female':1, 'Male':0}\n",
    "    }]\n",
    "race_map = [{\n",
    "    'col':'race',\n",
    "    'mapping':{'Other':1, 'White':0}\n",
    "    }]\n",
    "native_country_map = [{\n",
    "    'col':'native-country',\n",
    "    'mapping':{'Other':1, 'United-States':0}\n",
    "    }]\n",
    "education_map = [{\n",
    "    'col':'education',\n",
    "    'mapping':{'Academia':2, 'School':1, 'Higher-educ':0}\n",
    "    }]\n",
    "relationship_map = [{\n",
    "    'col':'relationship',\n",
    "    'mapping':{'Other':2, 'Not-in-family':1, 'Family':0}\n",
    "    }]\n",
    "\n",
    "sex_transformer = Pipeline(steps=[\n",
    "    ('ce',ce.OrdinalEncoder(mapping = sex_map))])\n",
    "\n",
    "workclass_transformer = Pipeline(steps=[\n",
    "    ('ce',ce.OrdinalEncoder(mapping = workclass_map))])\n",
    "\n",
    "marital_transformer = Pipeline(steps=[\n",
    "    ('ce',ce.OrdinalEncoder(mapping = marital_map))])\n",
    "\n",
    "occupation_transformer = Pipeline(steps=[\n",
    "    ('ce',ce.OrdinalEncoder(mapping = occupation_map))])\n",
    "\n",
    "race_transformer = Pipeline(steps=[\n",
    "    ('ce',ce.OrdinalEncoder(mapping = race_map))])\n",
    "\n",
    "native_country_transformer = Pipeline(steps=[\n",
    "    ('ce',ce.OrdinalEncoder(mapping = native_country_map))])\n",
    "education_transformer = Pipeline(steps=[\n",
    "    ('ce',ce.OrdinalEncoder(mapping = education_map))])\n",
    "relationship_transformer = Pipeline(steps=[\n",
    "    ('ce',ce.OrdinalEncoder(mapping = relationship_map))])\n",
    "\n",
    "   \n",
    "# для деревьев можно не стандартизировать данные в фичах \n",
    "CT = ColumnTransformer(transformers=[('sex', sex_transformer, ['sex']),\n",
    "                                     ('work', workclass_transformer, ['workclass']),\n",
    "                                     ('matiral', marital_transformer, ['marital-status']),\n",
    "                                     ('occupation', occupation_transformer, ['occupation']),\n",
    "                                     ('race', race_transformer, ['race']),\n",
    "                                     ('native-country',native_country_transformer, ['native-country']),\n",
    "                                     ('relationship',relationship_transformer,['relationship'])],\n",
    "                                      remainder = 'passthrough')\n",
    "\n",
    "display(CT)"
   ]
  },
  {
   "cell_type": "markdown",
   "id": "42d86c90",
   "metadata": {},
   "source": [
    "### Делаем обработку df1 (т.е test)"
   ]
  },
  {
   "cell_type": "code",
   "execution_count": null,
   "id": "09f27bd9",
   "metadata": {},
   "outputs": [],
   "source": [
    "df1.describe()"
   ]
  },
  {
   "cell_type": "code",
   "execution_count": null,
   "id": "743418f2",
   "metadata": {},
   "outputs": [],
   "source": [
    "ax = sns.pairplot(df1, palette= 'inferno')"
   ]
  },
  {
   "cell_type": "code",
   "execution_count": null,
   "id": "5fbe84b7",
   "metadata": {},
   "outputs": [],
   "source": [
    "ax = sns.regplot(x = 'age' , y = 'capital-gain', data = df1, fit_reg= True, scatter_kws= {'color':'red'}, line_kws={'color':'black'})"
   ]
  },
  {
   "cell_type": "code",
   "execution_count": null,
   "id": "b54187af",
   "metadata": {},
   "outputs": [],
   "source": [
    "display(df1[df1['capital-gain'] == 99999])"
   ]
  },
  {
   "cell_type": "code",
   "execution_count": null,
   "id": "7cbbe5db",
   "metadata": {},
   "outputs": [],
   "source": [
    "df1 = df1.replace('?',np.NaN)\n",
    "df1 = df1.dropna()\n",
    "# это выброс, тк рядом значений нет, а самое близкое к этому это где-то 43000\n",
    "df1 = df1.drop(df1[df1['capital-gain'] == 99999].index)\n",
    "df1.head()"
   ]
  },
  {
   "cell_type": "code",
   "execution_count": null,
   "id": "771d7bcd",
   "metadata": {},
   "outputs": [],
   "source": [
    "#### Relationship\n",
    "df1.relationship = df1.relationship.replace('Husband','Family')\n",
    "df1.relationship = df1.relationship.replace('Wife','Family')\n",
    "df1.relationship = df1.relationship.replace('Unmarried','Not-in-family')\n",
    "df1.relationship = df1.relationship.replace('Own-child','Other')\n",
    "df1.relationship = df1.relationship.replace('Other-relative','Other')\n",
    "###### Occupation\n",
    "df1.occupation = df1.occupation.replace('Prof-specialty','Professional')\n",
    "df1.occupation = df1.occupation.replace('Craft-repair','Physical labor') # blue - рабочий класс(почасовая полата) - физич труд\n",
    "df1.occupation = df1.occupation.replace('Exec-managerial','Intellectual labor') # white - наемный работник(доход в месяц) - умственный\n",
    "df1.occupation = df1.occupation.replace('Adm-clerical','Intellectual labor') # white\n",
    "df1.occupation = df1.occupation.replace('Machine-op-inspct','Physical labor') # blue\n",
    "df1.occupation = df1.occupation.replace('Transport-moving','Physical labor')# blue\n",
    "df1.occupation = df1.occupation.replace('Handlers-cleaners','Physical labor') # blue\n",
    "df1.occupation = df1.occupation.replace('Farming-fishing','Physical labor')# blue\n",
    "df1.occupation = df1.occupation.replace('Tech-support','Other-service')\n",
    "df1.occupation = df1.occupation.replace('Protective-serv','Other-service')\n",
    "df1.occupation = df1.occupation.replace('Priv-house-serv','Other-service')\n",
    "df1.occupation = df1.occupation.replace('Armed-Forces','Other-service')\n",
    "##### Workclass\n",
    "df1.workclass = df1.workclass.replace('Federal-gov','Government')\n",
    "df1.workclass = df1.workclass.replace('State-gov','Government')\n",
    "df1.workclass = df1.workclass.replace('Local-gov','Government')\n",
    "df1.workclass = df1.workclass.replace('Self-emp-inc','Self-Employed')\n",
    "df1.workclass = df1.workclass.replace('Self-emp-not-inc','Self-Employed')\n",
    "df1.workclass = df1.workclass.replace('Never-worked', 'Other')\n",
    "df1.workclass = df1.workclass.replace('Without-pay', 'Other')\n",
    "#### Marital\n",
    "df1['marital-status'] = df1['marital-status'].replace('Married-civ-spouse','Married')\n",
    "df1['marital-status'] = df1['marital-status'].replace('Married-AF-spouse','Married')\n",
    "df1['marital-status'] = df1['marital-status'].replace('Married-spouse-absent','Married')\n",
    "df1['marital-status'] = df1['marital-status'].replace('Unmarried','Single')\n",
    "##### Race\n",
    "df1.race = df1.race.replace('Black','Other')\n",
    "df1.race = df1.race.replace('Asian-Pac-Islander','Other')\n",
    "df1.race = df1.race.replace('Amer-Indian-Eskimo','Other')\n",
    "##### Country\n",
    "country = df1['native-country'].unique()\n",
    "def zamena_country(data):\n",
    "    for i in country:\n",
    "        if i != 'United-States':\n",
    "            data['native-country'] = data['native-country'].replace(i,'Other')\n",
    "    return data\n",
    "df1 = zamena_country(df1)\n",
    "\n",
    "###### Capital changes\n",
    "df1['capital-changes']  = df1['capital-gain'] - df1['capital-loss']\n",
    "##### \n",
    "df1 = df1.drop(columns=['education','fnlwgt','capital-gain','capital-loss'])\n",
    "df1.head()"
   ]
  },
  {
   "cell_type": "code",
   "execution_count": null,
   "id": "1b6dffea",
   "metadata": {},
   "outputs": [],
   "source": [
    "# делаем маску\n",
    "mask = df1.index"
   ]
  },
  {
   "cell_type": "code",
   "execution_count": null,
   "id": "0a4c9041",
   "metadata": {},
   "outputs": [],
   "source": [
    "finish_pipe_RFR =  Pipeline([\n",
    "            ('preprocessing', CT), \n",
    "            ('estimator',RandomForestClassifier(n_estimators=100))\n",
    "            ])\n",
    "\n",
    "finish_pipe_RFR.fit(X, y)\n",
    "print(finish_pipe_RFR.score(X,y))\n",
    "print(classification_report(y, finish_pipe_RFR.predict(X)))\n",
    "print('Правильность на наборе: {:.3f}'.format(finish_pipe_RFR.score(X, y))) "
   ]
  },
  {
   "cell_type": "code",
   "execution_count": null,
   "id": "9bf1cd8b",
   "metadata": {},
   "outputs": [],
   "source": [
    "y_predict = finish_pipe_RFR.predict(df1)\n",
    "y_predict.shape"
   ]
  },
  {
   "cell_type": "code",
   "execution_count": null,
   "id": "d8d90532",
   "metadata": {},
   "outputs": [],
   "source": []
  },
  {
   "cell_type": "code",
   "execution_count": null,
   "id": "294a8177",
   "metadata": {},
   "outputs": [],
   "source": []
  },
  {
   "cell_type": "code",
   "execution_count": null,
   "id": "409c8ae8",
   "metadata": {},
   "outputs": [],
   "source": []
  },
  {
   "cell_type": "code",
   "execution_count": null,
   "id": "55c46d6f",
   "metadata": {},
   "outputs": [],
   "source": []
  },
  {
   "cell_type": "code",
   "execution_count": null,
   "id": "e5322aa5",
   "metadata": {},
   "outputs": [],
   "source": []
  },
  {
   "cell_type": "code",
   "execution_count": null,
   "id": "4a4b5906",
   "metadata": {},
   "outputs": [],
   "source": []
  }
 ],
 "metadata": {
  "kernelspec": {
   "display_name": "Python 3 (ipykernel)",
   "language": "python",
   "name": "python3"
  },
  "language_info": {
   "codemirror_mode": {
    "name": "ipython",
    "version": 3
   },
   "file_extension": ".py",
   "mimetype": "text/x-python",
   "name": "python",
   "nbconvert_exporter": "python",
   "pygments_lexer": "ipython3",
   "version": "3.9.7"
  }
 },
 "nbformat": 4,
 "nbformat_minor": 5
}
