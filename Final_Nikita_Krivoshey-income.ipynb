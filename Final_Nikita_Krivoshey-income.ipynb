{
 "cells": [
  {
   "cell_type": "code",
   "execution_count": null,
   "metadata": {},
   "outputs": [],
   "source": [
    "# Внимание!!! Важно, что бы файлы с данными и исполняемый файл находились в одной папке, \n",
    "# тогда пути к тестовым и тренировочным наборам будут содержать только имена файлов.\n",
    "# \n",
    "# В пути к тренировочным и тестовым данным запрежается использовать абсалютную адресацию, \n",
    "# то есть адресацию, в которой присутствуют имена папок. Путь должен содержать только имя файла.\n",
    "#\n",
    "# Напоминание: под моделью машинного обучения понимаются все действия с исходными данными, \n",
    "# которые необходимо произвести, что бы сопоставить признаки целевому значению."
   ]
  },
  {
   "cell_type": "markdown",
   "metadata": {},
   "source": [
    "### Область работы 1 (библиотеки)"
   ]
  },
  {
   "cell_type": "code",
   "execution_count": null,
   "metadata": {},
   "outputs": [],
   "source": [
    "# Данный блок в области 1 выполняется преподавателем\n",
    "# \n",
    "# данный блок предназначен только для подключения необходимых библиотек\n",
    "# запрещается подключать библиотеки в других блоках\n",
    "#\n",
    "# установка дополнительных библиотек размещается прямо здесь (обязательно закоментированы)\n",
    "#\n",
    "# pip install"
   ]
  },
  {
   "cell_type": "code",
   "execution_count": null,
   "metadata": {},
   "outputs": [],
   "source": [
    "import numpy as np\n",
    "import pandas as pd\n",
    "import matplotlib.pyplot as plt\n",
    "import seaborn as sns\n",
    "#pip install category_encoders\n",
    "import category_encoders as ce\n",
    "\n",
    "from sklearn.model_selection import train_test_split , GridSearchCV , RandomizedSearchCV, KFold, RepeatedKFold\n",
    "\n",
    "from sklearn.preprocessing import PolynomialFeatures\n",
    "from sklearn.preprocessing import OneHotEncoder , LabelEncoder, OrdinalEncoder\n",
    "from sklearn.compose import ColumnTransformer\n",
    "from sklearn.pipeline import Pipeline, make_pipeline\n",
    "from sklearn.metrics import get_scorer\n",
    "from sklearn.model_selection import cross_validate\n",
    "from sklearn.model_selection import learning_curve\n",
    "from matplotlib.colors import ListedColormap\n",
    "from sklearn.ensemble import AdaBoostClassifier\n",
    "from sklearn.model_selection import cross_val_score\n",
    "from sklearn.linear_model import SGDClassifier\n",
    "from sklearn import svm \n",
    "from sklearn.svm import LinearSVC\n",
    "from sklearn.ensemble import GradientBoostingClassifier\n",
    "from sklearn.ensemble import RandomForestClassifier\n",
    "from sklearn.tree import DecisionTreeClassifier\n",
    "from itertools import product\n",
    "from sklearn.ensemble import VotingClassifier\n",
    "from sklearn.inspection import DecisionBoundaryDisplay\n",
    "from sklearn.inspection import permutation_importance\n",
    "from IPython.display import display\n",
    "from sklearn.metrics import confusion_matrix\n",
    "from sklearn.metrics import ConfusionMatrixDisplay\n",
    "from sklearn.metrics import classification_report, RocCurveDisplay, DetCurveDisplay,PrecisionRecallDisplay\n",
    "from sklearn.metrics import roc_auc_score"
   ]
  },
  {
   "cell_type": "markdown",
   "metadata": {},
   "source": [
    "# 2 БЛОК ВЫПОЛНЕН В ДРУГОМ ФАЙЛЕ"
   ]
  },
  {
   "cell_type": "markdown",
   "metadata": {},
   "source": [
    "### Область работы 3 (выполнение лучшей модели)"
   ]
  },
  {
   "cell_type": "code",
   "execution_count": null,
   "metadata": {},
   "outputs": [],
   "source": [
    "# Данный блок(и) в области 3 выполняется преподавателем\n",
    "#\n",
    "# В области находится одна, единственная, итоговая модель машинного обучения с однозначными, \n",
    "# зафиксированными параметрами\n",
    "#\n",
    "# В данной области категорически запрещается искать, выбирать, улучшать, оптимизировать, \n",
    "# тюниговать и т.д. модель машинного обучения"
   ]
  },
  {
   "cell_type": "code",
   "execution_count": null,
   "metadata": {},
   "outputs": [],
   "source": [
    "# Путь к тренировочному набору\n",
    "path_train = pd.read_csv('income_train.csv')\n",
    "df = pd.DataFrame(path_train)\n",
    "df['income'] = np.where(df['income'] == '>50K',1,0)\n",
    "display(df.head(),df.shape)\n",
    "\n",
    "path_test = pd.read_csv('income_test.csv')\n",
    "df1 = pd.DataFrame(path_test)\n",
    "display(df1.head())\n",
    "df1.shape"
   ]
  },
  {
   "cell_type": "markdown",
   "metadata": {},
   "source": [
    "## Делаем обработку df (т.е train)"
   ]
  },
  {
   "cell_type": "code",
   "execution_count": null,
   "metadata": {},
   "outputs": [],
   "source": [
    "df = df.replace('?',np.NaN)\n",
    "df = df.dropna()\n",
    "# это выброс, тк рядом значений нет, а самое близкое к этому это где-то 43000\n",
    "df = df.drop(df[df['capital-gain'] == 99999].index)\n",
    "display(df.head(),df.shape)"
   ]
  },
  {
   "cell_type": "code",
   "execution_count": null,
   "metadata": {},
   "outputs": [],
   "source": [
    "#### Relationship\n",
    "df.relationship = df.relationship.replace('Husband','Family')\n",
    "df.relationship = df.relationship.replace('Wife','Family')\n",
    "df.relationship = df.relationship.replace('Unmarried','Not-in-family')\n",
    "df.relationship = df.relationship.replace('Own-child','Other')\n",
    "df.relationship = df.relationship.replace('Other-relative','Other')\n",
    "###### Occupation\n",
    "df.occupation = df.occupation.replace('Prof-specialty','Professional')\n",
    "df.occupation = df.occupation.replace('Craft-repair','Physical labor') # blue - рабочий класс(почасовая полата) - физич труд\n",
    "df.occupation = df.occupation.replace('Exec-managerial','Intellectual labor') # white - наемный работник(доход в месяц) - умственный\n",
    "df.occupation = df.occupation.replace('Adm-clerical','Intellectual labor') # white\n",
    "df.occupation = df.occupation.replace('Machine-op-inspct','Physical labor') # blue\n",
    "df.occupation = df.occupation.replace('Transport-moving','Physical labor')# blue\n",
    "df.occupation = df.occupation.replace('Handlers-cleaners','Physical labor') # blue\n",
    "df.occupation = df.occupation.replace('Farming-fishing','Physical labor')# blue\n",
    "df.occupation = df.occupation.replace('Tech-support','Other-service')\n",
    "df.occupation = df.occupation.replace('Protective-serv','Other-service')\n",
    "df.occupation = df.occupation.replace('Priv-house-serv','Other-service')\n",
    "df.occupation = df.occupation.replace('Armed-Forces','Other-service')\n",
    "##### Workclass\n",
    "df.workclass = df.workclass.replace('Federal-gov','Government')\n",
    "df.workclass = df.workclass.replace('State-gov','Government')\n",
    "df.workclass = df.workclass.replace('Local-gov','Government')\n",
    "df.workclass = df.workclass.replace('Self-emp-inc','Self-Employed')\n",
    "df.workclass = df.workclass.replace('Self-emp-not-inc','Self-Employed')\n",
    "df.workclass = df.workclass.replace('Never-worked', 'Other')\n",
    "df.workclass = df.workclass.replace('Without-pay', 'Other')\n",
    "#### Marital\n",
    "df['marital-status'] = df['marital-status'].replace('Married-civ-spouse','Married')\n",
    "df['marital-status'] = df['marital-status'].replace('Married-AF-spouse','Married')\n",
    "df['marital-status'] = df['marital-status'].replace('Married-spouse-absent','Married')\n",
    "df['marital-status'] = df['marital-status'].replace('Never-married','Single')\n",
    "##### Race\n",
    "df.race = df.race.replace('Black','Other')\n",
    "df.race = df.race.replace('Asian-Pac-Islander','Other')\n",
    "df.race = df.race.replace('Amer-Indian-Eskimo','Other')\n",
    "##### Country\n",
    "country = df['native-country'].unique()\n",
    "def zamena_country(data):\n",
    "    for i in country:\n",
    "        if i != 'United-States':\n",
    "            data['native-country'] = data['native-country'].replace(i,'Other')\n",
    "    return data\n",
    "df = zamena_country(df)\n",
    "\n",
    "###### Capital changes\n",
    "df['capital-changes']  = df['capital-gain'] - df['capital-loss']\n",
    "##### \n",
    "df = df.drop(columns=['education','fnlwgt','capital-gain','capital-loss'])\n",
    "df.head()"
   ]
  },
  {
   "cell_type": "markdown",
   "metadata": {},
   "source": [
    "## Column Transformer"
   ]
  },
  {
   "cell_type": "code",
   "execution_count": null,
   "metadata": {},
   "outputs": [],
   "source": [
    "num_features = ['age','hours-per-week','capital-changes']\n",
    "y = np.array(df.income)\n",
    "X = df.drop(columns=['income'])"
   ]
  },
  {
   "cell_type": "code",
   "execution_count": null,
   "metadata": {},
   "outputs": [],
   "source": [
    "workclass_map = [{\n",
    "    'col':'workclass', \n",
    "    'mapping':{ 'Other':3, 'Government':2, 'Self-Employed':1, 'Private':0}\n",
    "    }]\n",
    "occupation_map = [{\n",
    "    'col':'occupation',\n",
    "    'mapping':{'Other-service':4, 'Sales':3,'Physical labor':2, 'Professional':1, 'Intellectual labor':0}\n",
    "    }]\n",
    "marital_map = [{\n",
    "    'col':'marital-status',\n",
    "    'mapping':{'Separated': 4, 'Widowed': 3, 'Divorced':2, 'Single': 1, 'Married':0}\n",
    "    }]\n",
    "sex_map = [{\n",
    "    'col':'sex',\n",
    "    'mapping':{'Female':1, 'Male':0}\n",
    "    }]\n",
    "race_map = [{\n",
    "    'col':'race',\n",
    "    'mapping':{'Other':1, 'White':0}\n",
    "    }]\n",
    "native_country_map = [{\n",
    "    'col':'native-country',\n",
    "    'mapping':{'Other':1, 'United-States':0}\n",
    "    }]\n",
    "education_map = [{\n",
    "    'col':'education',\n",
    "    'mapping':{'Academia':2, 'School':1, 'Higher-educ':0}\n",
    "    }]\n",
    "relationship_map = [{\n",
    "    'col':'relationship',\n",
    "    'mapping':{'Other':2, 'Not-in-family':1, 'Family':0}\n",
    "    }]\n",
    "\n",
    "sex_transformer = Pipeline(steps=[\n",
    "    ('ce',ce.OrdinalEncoder(mapping = sex_map))])\n",
    "\n",
    "workclass_transformer = Pipeline(steps=[\n",
    "    ('ce',ce.OrdinalEncoder(mapping = workclass_map))])\n",
    "\n",
    "marital_transformer = Pipeline(steps=[\n",
    "    ('ce',ce.OrdinalEncoder(mapping = marital_map))])\n",
    "\n",
    "occupation_transformer = Pipeline(steps=[\n",
    "    ('ce',ce.OrdinalEncoder(mapping = occupation_map))])\n",
    "\n",
    "race_transformer = Pipeline(steps=[\n",
    "    ('ce',ce.OrdinalEncoder(mapping = race_map))])\n",
    "\n",
    "native_country_transformer = Pipeline(steps=[\n",
    "    ('ce',ce.OrdinalEncoder(mapping = native_country_map))])\n",
    "education_transformer = Pipeline(steps=[\n",
    "    ('ce',ce.OrdinalEncoder(mapping = education_map))])\n",
    "relationship_transformer = Pipeline(steps=[\n",
    "    ('ce',ce.OrdinalEncoder(mapping = relationship_map))])\n",
    "\n",
    "   \n",
    "# для деревьев можно не стандартизировать данные в фичах \n",
    "CT = ColumnTransformer(transformers=[('sex', sex_transformer, ['sex']),\n",
    "                                     ('work', workclass_transformer, ['workclass']),\n",
    "                                     ('matiral', marital_transformer, ['marital-status']),\n",
    "                                     ('occupation', occupation_transformer, ['occupation']),\n",
    "                                     ('race', race_transformer, ['race']),\n",
    "                                     ('native-country',native_country_transformer, ['native-country']),\n",
    "                                     ('relationship',relationship_transformer,['relationship'])],\n",
    "                                      remainder = 'passthrough')\n",
    "\n",
    "display(CT)"
   ]
  },
  {
   "cell_type": "markdown",
   "metadata": {},
   "source": [
    "## Делаем обработку df1 (т.е test)"
   ]
  },
  {
   "cell_type": "code",
   "execution_count": null,
   "metadata": {},
   "outputs": [],
   "source": [
    "# более наглядная обработка и нахождение выбросов и nan в файле 2 блока\n",
    "# тут сразу буду чистить данные"
   ]
  },
  {
   "cell_type": "code",
   "execution_count": null,
   "metadata": {},
   "outputs": [],
   "source": [
    "# не выбрасываем выбросы и ? значения, а добавляем их в другие категории к существующим\n",
    "display(df1.head(),df1.shape)"
   ]
  },
  {
   "cell_type": "code",
   "execution_count": null,
   "metadata": {},
   "outputs": [],
   "source": [
    "#### Relationship\n",
    "df1.relationship = df1.relationship.replace('Husband','Family')\n",
    "df1.relationship = df1.relationship.replace('Wife','Family')\n",
    "df1.relationship = df1.relationship.replace('Unmarried','Not-in-family')\n",
    "df1.relationship = df1.relationship.replace('Own-child','Other')\n",
    "df1.relationship = df1.relationship.replace('Other-relative','Other')\n",
    "###### Occupation\n",
    "df1.occupation = df1.occupation.replace('Prof-specialty','Professional')\n",
    "df1.occupation = df1.occupation.replace('Craft-repair','Physical labor') # blue - рабочий класс(почасовая полата) - физич труд\n",
    "df1.occupation = df1.occupation.replace('Exec-managerial','Intellectual labor') # white - наемный работник(доход в месяц) - умственный\n",
    "df1.occupation = df1.occupation.replace('Adm-clerical','Intellectual labor') # white\n",
    "df1.occupation = df1.occupation.replace('Machine-op-inspct','Physical labor') # blue\n",
    "df1.occupation = df1.occupation.replace('Transport-moving','Physical labor')# blue\n",
    "df1.occupation = df1.occupation.replace('Handlers-cleaners','Physical labor') # blue\n",
    "df1.occupation = df1.occupation.replace('Farming-fishing','Physical labor')# blue\n",
    "df1.occupation = df1.occupation.replace('Tech-support','Other-service')\n",
    "df1.occupation = df1.occupation.replace('Protective-serv','Other-service')\n",
    "df1.occupation = df1.occupation.replace('Priv-house-serv','Other-service')\n",
    "df1.occupation = df1.occupation.replace('Armed-Forces','Other-service')\n",
    "df1.occupation = df1.occupation.replace('?','Other-service')\n",
    "##### Workclass\n",
    "df1.workclass = df1.workclass.replace('Federal-gov','Government')\n",
    "df1.workclass = df1.workclass.replace('State-gov','Government')\n",
    "df1.workclass = df1.workclass.replace('Local-gov','Government')\n",
    "df1.workclass = df1.workclass.replace('Self-emp-inc','Self-Employed')\n",
    "df1.workclass = df1.workclass.replace('Self-emp-not-inc','Self-Employed')\n",
    "df1.workclass = df1.workclass.replace('Never-worked', 'Other')\n",
    "df1.workclass = df1.workclass.replace('Without-pay', 'Other')\n",
    "df1.workclass = df1.workclass.replace('?', 'Other')\n",
    "#### Marital\n",
    "df1['marital-status'] = df1['marital-status'].replace('Married-civ-spouse','Married')\n",
    "df1['marital-status'] = df1['marital-status'].replace('Married-AF-spouse','Married')\n",
    "df1['marital-status'] = df1['marital-status'].replace('Married-spouse-absent','Married')\n",
    "df1['marital-status'] = df1['marital-status'].replace('Never-married','Single')\n",
    "##### Race\n",
    "df1.race = df1.race.replace('Black','Other')\n",
    "df1.race = df1.race.replace('Asian-Pac-Islander','Other')\n",
    "df1.race = df1.race.replace('Amer-Indian-Eskimo','Other')\n",
    "##### Country\n",
    "countries = df1['native-country'].unique()\n",
    "def zamena_countries(data):\n",
    "    for i in countries:\n",
    "        if i != 'United-States':\n",
    "            data['native-country'] = data['native-country'].replace(i,'Other')\n",
    "    return data\n",
    "df1 = zamena_countries(df1)\n",
    "\n",
    "###### Capital changes\n",
    "df1['capital-changes']  = df1['capital-gain'] - df1['capital-loss']\n",
    "##### \n",
    "df1 = df1.drop(columns=['education','fnlwgt','capital-gain','capital-loss'])\n",
    "display(df1.head(),df1.shape)"
   ]
  },
  {
   "cell_type": "code",
   "execution_count": null,
   "metadata": {},
   "outputs": [],
   "source": [
    "# Блок(и) обучения и поверки модели"
   ]
  },
  {
   "cell_type": "code",
   "execution_count": null,
   "metadata": {},
   "outputs": [],
   "source": [
    "finish_pipe_RFR =  Pipeline([\n",
    "            ('preprocessing', CT), \n",
    "            ('estimator',RandomForestClassifier(n_estimators=100))\n",
    "            ])\n",
    "\n",
    "finish_pipe_RFR.fit(X, y)\n",
    "print(finish_pipe_RFR.score(X,y))"
   ]
  },
  {
   "cell_type": "code",
   "execution_count": null,
   "metadata": {},
   "outputs": [],
   "source": [
    "# Блок предсказания с использованием тестового набора"
   ]
  },
  {
   "cell_type": "code",
   "execution_count": null,
   "metadata": {},
   "outputs": [],
   "source": [
    "y_predict = finish_pipe_RFR.predict(df1)\n",
    "y_predict.shape"
   ]
  },
  {
   "cell_type": "code",
   "execution_count": null,
   "metadata": {},
   "outputs": [],
   "source": [
    "# Маска отобраных номеров строк для предсказания из тестового набора\n",
    "# не выбрасывал ничего, а предсказывал на таких данных, только немного преобразовав их\n",
    "#mask\n",
    "# Название вектора предсказанных значений  y_predict полученого на основании тестового набора\n",
    "y_predict = y_predict"
   ]
  }
 ],
 "metadata": {
  "kernelspec": {
   "display_name": "Python 3 (ipykernel)",
   "language": "python",
   "name": "python3"
  },
  "language_info": {
   "codemirror_mode": {
    "name": "ipython",
    "version": 3
   },
   "file_extension": ".py",
   "mimetype": "text/x-python",
   "name": "python",
   "nbconvert_exporter": "python",
   "pygments_lexer": "ipython3",
   "version": "3.9.7"
  }
 },
 "nbformat": 4,
 "nbformat_minor": 2
}
